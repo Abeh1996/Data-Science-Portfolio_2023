{
 "cells": [
  {
   "cell_type": "markdown",
   "id": "26ee65a0",
   "metadata": {},
   "source": [
    "# <center>Principal Component Analysis(PCA)</center> "
   ]
  },
  {
   "cell_type": "markdown",
   "id": "00cc86bd",
   "metadata": {},
   "source": [
    "# Table of contents\n",
    "- Introduction\n",
    "- Curse dimensionality\n",
    "- Application of PCA\n",
    "- Implementation of PCA in python"
   ]
  },
  {
   "cell_type": "markdown",
   "id": "3f28828d",
   "metadata": {},
   "source": [
    "## Introduction\n",
    "Principal Component Analysis(PCA) is an unsupervised Machine Learning Algorithm use for linear dimensionality reduction. It involves the extraction of information from data in high-dimensional space by projecting it into a lower-dimensional sub-space while at the same time trying to preserve the ensential parts that have  more variation of the data.\n",
    "\n",
    "### Dimensionality\n",
    "The dimension of a dataset simply corresponds to the number of features found in the dataset. Data of very high dimension makes visualization and the spotting of trends or patterns within the data very difficult and as well as interpretability of the data.\n",
    "\n",
    "### Curse dimensionality\n",
    "This is a set of problems that will arise with high dimensional data;\n",
    "- For instance fitting data into a model which consist of some pair of features that are highly correlated would be like fitting the same feature but in two dimensions which is nothing but redundancy. This results to an unnecessary increase in the dimension of the data.\n",
    "- Fitting high-dimensional data into a model will result to model overfitting and also an increase in training time.\n",
    "- High dimension makes data visualization and spotting of patterns and trends within the data seem almost impossible.\n",
    "- Distance based Machine learning algorithms such as KNN and K-Mean Clustering algorithms would not work well for high dimensional data as a lot of computation would have to be done in distance calculation.\n",
    "\n",
    "### The Goal of PCA\n",
    "To project data in high-dimensional space to data in lower-dimensional space containing the most significant features(Principal components or Dimensions) in order to make\n",
    "- Visualization and spotting of patterns and trends within the data in 3D or 2D possible.\n",
    "- Reduce model training time and overfitting.\n",
    "\n",
    "### Principal Component\n",
    "Principal components are simply straight lines that have magnitudes and directions.The direction indicates the principal axis accross which the data is mostly spread out while the magnitude indicate the amount of variance of data explained by the principal component.\n",
    "PCs are obtained by the algebraically summing the orignal features of the dataset.\n",
    "\n",
    "### Application of PCA\n",
    "- Use to resize images\n",
    "- visualization of multidimensional data\n",
    "- Detect patterns and trends within multidimensional data\n",
    "- Speed up the training of ML agorithms\n"
   ]
  },
  {
   "cell_type": "markdown",
   "id": "7d1e385a",
   "metadata": {},
   "source": [
    "## Dataset\n",
    "The dataset used to perform PCA includeis the iris dataset"
   ]
  },
  {
   "cell_type": "code",
   "execution_count": 2,
   "id": "2240d8cb",
   "metadata": {},
   "outputs": [],
   "source": [
    "from sklearn.datasets import load_iris"
   ]
  },
  {
   "cell_type": "code",
   "execution_count": 5,
   "id": "abead0d6",
   "metadata": {},
   "outputs": [],
   "source": [
    "iris = load_iris()"
   ]
  },
  {
   "cell_type": "code",
   "execution_count": 10,
   "id": "0b138193",
   "metadata": {},
   "outputs": [
    {
     "name": "stdout",
     "output_type": "stream",
     "text": [
      "Number of samples: 150\n",
      "Number of features: 4\n"
     ]
    }
   ],
   "source": [
    "#Size of tha dataset\n",
    "\n",
    "X = iris['data']\n",
    "y = iris['target']\n",
    "n_samples, n_features = X.shape\n",
    "print('Number of samples:', n_samples)\n",
    "print('Number of features:', n_features)"
   ]
  },
  {
   "cell_type": "code",
   "execution_count": 13,
   "id": "e8dc475e",
   "metadata": {},
   "outputs": [
    {
     "name": "stdout",
     "output_type": "stream",
     "text": [
      "Feature_names:\n",
      "['sepal length (cm)', 'sepal width (cm)', 'petal length (cm)', 'petal width (cm)']\n"
     ]
    }
   ],
   "source": [
    "#Feature names\n",
    "print('Feature_names:')\n",
    "print(iris.feature_names)"
   ]
  },
  {
   "cell_type": "code",
   "execution_count": 17,
   "id": "075e82db",
   "metadata": {},
   "outputs": [
    {
     "data": {
      "text/html": [
       "<div>\n",
       "<style scoped>\n",
       "    .dataframe tbody tr th:only-of-type {\n",
       "        vertical-align: middle;\n",
       "    }\n",
       "\n",
       "    .dataframe tbody tr th {\n",
       "        vertical-align: top;\n",
       "    }\n",
       "\n",
       "    .dataframe thead tr th {\n",
       "        text-align: left;\n",
       "    }\n",
       "</style>\n",
       "<table border=\"1\" class=\"dataframe\">\n",
       "  <thead>\n",
       "    <tr>\n",
       "      <th></th>\n",
       "      <th>sepal length (cm)</th>\n",
       "      <th>sepal width (cm)</th>\n",
       "      <th>petal length (cm)</th>\n",
       "      <th>petal width (cm)</th>\n",
       "    </tr>\n",
       "  </thead>\n",
       "  <tbody>\n",
       "    <tr>\n",
       "      <th>0</th>\n",
       "      <td>5.1</td>\n",
       "      <td>3.5</td>\n",
       "      <td>1.4</td>\n",
       "      <td>0.2</td>\n",
       "    </tr>\n",
       "    <tr>\n",
       "      <th>1</th>\n",
       "      <td>4.9</td>\n",
       "      <td>3.0</td>\n",
       "      <td>1.4</td>\n",
       "      <td>0.2</td>\n",
       "    </tr>\n",
       "    <tr>\n",
       "      <th>2</th>\n",
       "      <td>4.7</td>\n",
       "      <td>3.2</td>\n",
       "      <td>1.3</td>\n",
       "      <td>0.2</td>\n",
       "    </tr>\n",
       "    <tr>\n",
       "      <th>3</th>\n",
       "      <td>4.6</td>\n",
       "      <td>3.1</td>\n",
       "      <td>1.5</td>\n",
       "      <td>0.2</td>\n",
       "    </tr>\n",
       "    <tr>\n",
       "      <th>4</th>\n",
       "      <td>5.0</td>\n",
       "      <td>3.6</td>\n",
       "      <td>1.4</td>\n",
       "      <td>0.2</td>\n",
       "    </tr>\n",
       "  </tbody>\n",
       "</table>\n",
       "</div>"
      ],
      "text/plain": [
       "  sepal length (cm) sepal width (cm) petal length (cm) petal width (cm)\n",
       "0               5.1              3.5               1.4              0.2\n",
       "1               4.9              3.0               1.4              0.2\n",
       "2               4.7              3.2               1.3              0.2\n",
       "3               4.6              3.1               1.5              0.2\n",
       "4               5.0              3.6               1.4              0.2"
      ]
     },
     "execution_count": 17,
     "metadata": {},
     "output_type": "execute_result"
    }
   ],
   "source": [
    "#Dataframe containing just features\n",
    "import pandas as pd\n",
    "irisFeatureS_df = pd.DataFrame(X, columns = [iris.feature_names])\n",
    "irisFeatureS_df.head()"
   ]
  },
  {
   "cell_type": "code",
   "execution_count": 18,
   "id": "8a438ab1",
   "metadata": {},
   "outputs": [],
   "source": [
    "import seaborn as sns\n",
    "sns.set_style('darkgrid')"
   ]
  },
  {
   "cell_type": "code",
   "execution_count": 26,
   "id": "8cf0786f",
   "metadata": {},
   "outputs": [
    {
     "data": {
      "text/plain": [
       "<AxesSubplot:xlabel='None', ylabel='None'>"
      ]
     },
     "execution_count": 26,
     "metadata": {},
     "output_type": "execute_result"
    },
    {
     "data": {
      "image/png": "[encoded data removed]",
      "text/plain": [
       "<Figure size 432x288 with 2 Axes>"
      ]
     },
     "metadata": {},
     "output_type": "display_data"
    }
   ],
   "source": [
    "sns.heatmap(irisFeatureS_df.corr(), cmap = 'coolwarm',annot = True)"
   ]
  },
  {
   "cell_type": "markdown",
   "id": "e3a21534",
   "metadata": {},
   "source": [
    "It could be observed from the heatmap above that \n",
    "- the sepal length and petal width,\n",
    "- Sepal length and petal length,\n",
    "- petal width and petal length are highly correlated"
   ]
  },
  {
   "cell_type": "markdown",
   "id": "a6842f14",
   "metadata": {},
   "source": [
    "## PCA using the covariance method\n",
    "The following step-by-step guide explains the general framework for computing PCA using the covariance method."
   ]
  },
  {
   "cell_type": "markdown",
   "id": "86f2ccc9",
   "metadata": {},
   "source": [
    "### Step1:Standardization\n",
    "The features are standardized so that each of it acquires a mean of 0 and a variance of 1."
   ]
  },
  {
   "cell_type": "code",
   "execution_count": 35,
   "id": "909c7992",
   "metadata": {},
   "outputs": [],
   "source": [
    "def  mean(x):\n",
    "    return sum(x)/len(x)\n",
    "def std(x):\n",
    "    std = (sum((x - mean(x))**2)/len(x))**0.5\n",
    "    return std\n",
    "def standardized_data(x):\n",
    "    return (x - mean(x))/std(x)\n",
    "X_std = standardized_data(X)\n",
    "    "
   ]
  },
  {
   "cell_type": "code",
   "execution_count": 39,
   "id": "c58edea4",
   "metadata": {},
   "outputs": [
    {
     "data": {
      "text/plain": [
       "array([[-0.90068117,  1.01900435, -1.34022653, -1.3154443 ],\n",
       "       [-1.14301691, -0.13197948, -1.34022653, -1.3154443 ]])"
      ]
     },
     "execution_count": 39,
     "metadata": {},
     "output_type": "execute_result"
    }
   ],
   "source": [
    "X_std[:2]"
   ]
  },
  {
   "cell_type": "code",
   "execution_count": 37,
   "id": "b8e1a270",
   "metadata": {},
   "outputs": [
    {
     "data": {
      "text/plain": [
       "(150, 4)"
      ]
     },
     "execution_count": 37,
     "metadata": {},
     "output_type": "execute_result"
    }
   ],
   "source": [
    "X_std.shape"
   ]
  },
  {
   "cell_type": "markdown",
   "id": "fd16d812",
   "metadata": {},
   "source": [
    "### Step 2: Determination of the covariance matrix"
   ]
  },
  {
   "cell_type": "code",
   "execution_count": 54,
   "id": "d54926de",
   "metadata": {},
   "outputs": [],
   "source": [
    "import numpy as np"
   ]
  },
  {
   "cell_type": "code",
   "execution_count": 51,
   "id": "0b71c196",
   "metadata": {},
   "outputs": [],
   "source": [
    "def covariance(x): \n",
    "    return (x.T@x)/(x.shape[0]-1)\n",
    "\n",
    "cov_mat = covariance(X_std) # np.cov(X_std.T)"
   ]
  },
  {
   "cell_type": "code",
   "execution_count": 52,
   "id": "5b36b6d4",
   "metadata": {},
   "outputs": [
    {
     "data": {
      "text/plain": [
       "array([[ 1.00671141, -0.11835884,  0.87760447,  0.82343066],\n",
       "       [-0.11835884,  1.00671141, -0.43131554, -0.36858315],\n",
       "       [ 0.87760447, -0.43131554,  1.00671141,  0.96932762],\n",
       "       [ 0.82343066, -0.36858315,  0.96932762,  1.00671141]])"
      ]
     },
     "execution_count": 52,
     "metadata": {},
     "output_type": "execute_result"
    }
   ],
   "source": [
    "cov_mat"
   ]
  },
  {
   "cell_type": "markdown",
   "id": "0e52b168",
   "metadata": {},
   "source": [
    "### Step 3: Determination of  the eigenvectors and eigenvalues of the covariance matrix "
   ]
  },
  {
   "cell_type": "code",
   "execution_count": 64,
   "id": "8f558bec",
   "metadata": {},
   "outputs": [
    {
     "name": "stdout",
     "output_type": "stream",
     "text": [
      "Eigenvalues \n",
      " [2.93808505 0.9201649  0.14774182 0.02085386]\n",
      "Eigenvectors \n",
      " [[ 0.52106591 -0.26934744  0.5804131   0.56485654]\n",
      " [ 0.37741762  0.92329566  0.02449161  0.06694199]\n",
      " [ 0.71956635 -0.24438178 -0.14212637 -0.63427274]\n",
      " [-0.26128628  0.12350962  0.80144925 -0.52359713]]\n"
     ]
    }
   ],
   "source": [
    "from numpy.linalg import eig\n",
    "\n",
    "#Decomposition of the covariance matrix to get eigen values and vectors\n",
    "eig_vals,eig_vecs = eig(cov_mat)\n",
    "max_abs_idx = np.argmax(np.abs(eig_vecs), axis=0)\n",
    "signs = np.sign(eig_vecs[max_abs_idx, range(eig_vecs.shape[0])])\n",
    "eig_vecs = eig_vecs*signs[np.newaxis,:]\n",
    "eig_vecs = eig_vecs.T\n",
    "print('Eigenvalues \\n', eig_vals)\n",
    "print('Eigenvectors \\n', eig_vecs)"
   ]
  },
  {
   "cell_type": "markdown",
   "id": "80936f62",
   "metadata": {},
   "source": [
    "### Step 4 : Sorting the Eigen Vectors and Values"
   ]
  },
  {
   "cell_type": "code",
   "execution_count": 74,
   "id": "714a46f5",
   "metadata": {},
   "outputs": [
    {
     "name": "stdout",
     "output_type": "stream",
     "text": [
      "[(2.9380850501999953, array([ 0.52106591, -0.26934744,  0.5804131 ,  0.56485654])), (0.9201649041624866, array([0.37741762, 0.92329566, 0.02449161, 0.06694199])), (0.147741821044948, array([ 0.71956635, -0.24438178, -0.14212637, -0.63427274])), (0.020853862176462217, array([-0.26128628,  0.12350962,  0.80144925, -0.52359713]))]\n"
     ]
    }
   ],
   "source": [
    "# Creating a list of (eigenvalue, eigenvector) tuples\n",
    "eig_pairs = [(np.abs(eig_vals[i]), eig_vecs[i]) for i in range(len(eig_vals))]\n",
    "\n",
    "#Sorting the tuples from the highest to the lowest based on eigenvalues magnitude\n",
    "eig_pairs.sort(key=lambda x: x[0], reverse=True)\n",
    "\n",
    "# For further usage\n",
    "eig_vals_sorted = np.array([x[0] for x in eig_pairs])\n",
    "eig_vecs_sorted = np.array([x[1] for x in eig_pairs])\n",
    "print(eig_pairs)"
   ]
  },
  {
   "cell_type": "markdown",
   "id": "09bac129",
   "metadata": {},
   "source": [
    "### Step 5: Chooing the principal components\n",
    "The first  k eigenvectors where  k is the number of dimensions of the new feature subspace where k is less than n_features."
   ]
  },
  {
   "cell_type": "code",
   "execution_count": 75,
   "id": "81dbbf75",
   "metadata": {},
   "outputs": [
    {
     "name": "stdout",
     "output_type": "stream",
     "text": [
      "(2, 4)\n"
     ]
    }
   ],
   "source": [
    "# Selecting the top k eigen vectors\n",
    "k = 2\n",
    "V = eig_vecs_sorted[:2]\n",
    "print(V.shape)"
   ]
  },
  {
   "cell_type": "markdown",
   "id": "c862e825",
   "metadata": {},
   "source": [
    "## NOTE:\n",
    "The value of K could better be selected using the _explained_variance_. Explained_variance corresponds to amount of variance in the data explained by each principal component or dimension."
   ]
  },
  {
   "cell_type": "code",
   "execution_count": 82,
   "id": "a8ef9647",
   "metadata": {},
   "outputs": [
    {
     "name": "stdout",
     "output_type": "stream",
     "text": [
      "Explained variance: [72.96 22.85  3.67  0.52]\n",
      "Cumulative explained variance: [ 72.96  95.81  99.48 100.  ]\n"
     ]
    },
    {
     "data": {
      "image/png": "[encoded data removed]",
      "text/plain": [
       "<Figure size 432x288 with 1 Axes>"
      ]
     },
     "metadata": {},
     "output_type": "display_data"
    }
   ],
   "source": [
    "import matplotlib.pyplot as plt\n",
    "#Determination of explained variance of each PC\n",
    "eig_vals_total = sum(eig_vals)\n",
    "explained_variance = [(i / eig_vals_total)*100 for i in eig_vals_sorted]\n",
    "explained_variance = np.round(explained_variance, 2)\n",
    "cum_explained_variance = np.cumsum(explained_variance)\n",
    "\n",
    "print('Explained variance: {}'.format(explained_variance))\n",
    "print('Cumulative explained variance: {}'.format(cum_explained_variance))\n",
    "# visualizing the the cummulative explained variance with the number of PCs\n",
    "plt.plot(np.arange(1,5), cum_explained_variance, '-o', color = 'r')\n",
    "plt.xticks(np.arange(1,n_features+1))\n",
    "plt.xlabel('Number of components')\n",
    "plt.ylabel('Cumulative explained variance');\n",
    "plt.show()"
   ]
  },
  {
   "cell_type": "markdown",
   "id": "35dced2d",
   "metadata": {},
   "source": [
    "-From the above visualization it could be observed that most of the variance about the data is explained by the first two PCs."
   ]
  },
  {
   "cell_type": "markdown",
   "id": "16844c71",
   "metadata": {},
   "source": [
    "### Step 5: Projecting the data on to a K-th dimensional features sub-space\n",
    "-  Finally we then transform the data  X via the projection matrix  V to obtain a  k dimensional feature subspace."
   ]
  },
  {
   "cell_type": "code",
   "execution_count": 84,
   "id": "00062c99",
   "metadata": {},
   "outputs": [
    {
     "name": "stdout",
     "output_type": "stream",
     "text": [
      "(150, 2)\n"
     ]
    }
   ],
   "source": [
    "X_proj = X_std.dot(V.T)\n",
    "print(X_proj.shape)"
   ]
  },
  {
   "cell_type": "code",
   "execution_count": 105,
   "id": "43ca3a90",
   "metadata": {},
   "outputs": [
    {
     "data": {
      "image/png": "[encoded data removed]",
      "text/plain": [
       "<Figure size 432x288 with 1 Axes>"
      ]
     },
     "metadata": {},
     "output_type": "display_data"
    }
   ],
   "source": [
    "# Visualizing the transformed data in 2D\n",
    "plt.scatter(X_proj[:,0], X_proj[:, 1], c = y,s = 50)\n",
    "plt.xlabel('PC1'); plt.xticks([])\n",
    "plt.ylabel('PC2'); plt.yticks([])\n",
    "plt.title('2 components, captures {} of total variation'.format(cum_explained_variance[1]))\n",
    "plt.show()"
   ]
  },
  {
   "cell_type": "markdown",
   "id": "8ecba759",
   "metadata": {},
   "source": [
    "Putting all the steps above into a single class"
   ]
  },
  {
   "cell_type": "code",
   "execution_count": 117,
   "id": "cb5d18bd",
   "metadata": {},
   "outputs": [
    {
     "name": "stdout",
     "output_type": "stream",
     "text": [
      "Components:\n",
      " [[ 0.52106591 -0.26934744  0.5804131   0.56485654]\n",
      " [-0.37741762 -0.92329566 -0.02449161 -0.06694199]]\n",
      "Explained variance ratio from scratch:\n",
      " [0.7296244541329989, 0.22850761786701754]\n",
      "Cumulative explained variance from scratch:\n",
      " [0.72962445 0.95813207]\n",
      "Transformed data shape from scratch: (150, 2)\n"
     ]
    }
   ],
   "source": [
    "class PCA:\n",
    "    def __init__(self,n_components):\n",
    "        self.n_components = n_components\n",
    "    \n",
    "    def fit(self,X):\n",
    "        #Stanardize the data\n",
    "        self.mean = np.mean(X, axis = 0)\n",
    "        self.std = np.std(X,axis = 0)\n",
    "        X_std = (X - self.mean)/self.std\n",
    "        \n",
    "        # Covariance matrix\n",
    "        cov_mat = np.cov(X_std.T)\n",
    "        \n",
    "        # Decomposition of the covariance matrix to Eigen vectors and Eigen values\n",
    "        eig_vals,eig_vecs = np.linalg.eig(cov_mat)\n",
    "        eig_vecs = eig_vecs.T\n",
    "       \n",
    "        eig_pairs = [(np.abs(eig_vals[i]), eig_vecs[i,:]) for i in range(len(eig_vals))]\n",
    "        eig_pairs.sort(key=lambda x: x[0], reverse=True)\n",
    "        eig_vals_sorted = np.array([x[0] for x in eig_pairs])\n",
    "        eig_vecs_sorted = np.array([x[1] for x in eig_pairs])\n",
    "        \n",
    "        self.components = eig_vecs_sorted[:self.n_components,:]\n",
    "        \n",
    "        # Explained variance ratio\n",
    "        self.explained_variance_ratio = [i/np.sum(eig_vals) for i in eig_vals_sorted[:self.n_components]]\n",
    "        \n",
    "        self.cum_explained_variance = np.cumsum(self.explained_variance_ratio)\n",
    "\n",
    "        return self\n",
    "\n",
    "    def transform(self, X):\n",
    "        X = X.copy()\n",
    "        X_std = (X - self.mean) / self.std\n",
    "        X_proj = X_std.dot(self.components.T)\n",
    "        \n",
    "        return X_proj\n",
    "# ---------------------------------------------------------\n",
    "pca = PCA(n_components = 2).fit(X)\n",
    "\n",
    "print('Components:\\n', pca.components)\n",
    "print('Explained variance ratio from scratch:\\n', pca.explained_variance_ratio)\n",
    "print('Cumulative explained variance from scratch:\\n', pca.cum_explained_variance)\n",
    "\n",
    "X_proj = pca.transform(X)\n",
    "X_proj = pca.transform(X)\n",
    "print('Transformed data shape from scratch:', X_proj.shape)"
   ]
  },
  {
   "cell_type": "markdown",
   "id": "daf913d7",
   "metadata": {},
   "source": [
    "### PCA with ScikitLearn"
   ]
  },
  {
   "cell_type": "code",
   "execution_count": 118,
   "id": "06acd232",
   "metadata": {},
   "outputs": [
    {
     "name": "stdout",
     "output_type": "stream",
     "text": [
      "Components:\n",
      " [[ 0.52106591 -0.26934744  0.5804131   0.56485654]\n",
      " [ 0.37741762  0.92329566  0.02449161  0.06694199]]\n",
      "Explained variance ratio:\n",
      " [0.72962445 0.22850762]\n",
      "Cumulative explained variance:\n",
      " [0.72962445 0.95813207]\n",
      "Transformed data shape: (150, 2)\n"
     ]
    },
    {
     "data": {
      "image/png": "[encoded data removed]",
      "text/plain": [
       "<Figure size 432x288 with 1 Axes>"
      ]
     },
     "metadata": {},
     "output_type": "display_data"
    }
   ],
   "source": [
    "from sklearn.preprocessing import StandardScaler\n",
    "# Standardize the data\n",
    "X_std = StandardScaler().fit_transform(X)\n",
    "\n",
    "# Implement PCA\n",
    "from sklearn.decomposition import PCA\n",
    "pca = PCA(n_components = 2 ).fit(X_std)\n",
    "\n",
    "print('Components:\\n', pca.components_)\n",
    "print('Explained variance ratio:\\n', pca.explained_variance_ratio_)\n",
    "\n",
    "cum_explained_variance = np.cumsum(pca.explained_variance_ratio_)\n",
    "print('Cumulative explained variance:\\n', cum_explained_variance)\n",
    "\n",
    "X_pca = pca.transform(X_std) # Apply dimensionality reduction to X.\n",
    "print('Transformed data shape:', X_pca.shape)\n",
    "\n",
    "plt.scatter(X_pca[:, 0], X_pca[:, 1], c = y)\n",
    "plt.xlabel('PC1'); plt.xticks([])\n",
    "plt.ylabel('PC2'); plt.yticks([])\n",
    "plt.title('2 components, captures {}% of total variation'.format(cum_explained_variance[1].round(4)*100))\n",
    "plt.show()"
   ]
  },
  {
   "cell_type": "markdown",
   "id": "d5197d39",
   "metadata": {},
   "source": [
    "## References:\n",
    "1. https://www.datacamp.com/tutorial/principal-component-analysis-in-python\n",
    "2. https://bagheri365.github.io/blog/Principal-Component-Analysis-from-Scratch/\n",
    "    "
   ]
  },
  {
   "cell_type": "code",
   "execution_count": null,
   "id": "c398fc2b",
   "metadata": {},
   "outputs": [],
   "source": []
  }
 ],
 "metadata": {
  "kernelspec": {
   "display_name": "Python 3",
   "language": "python",
   "name": "python3"
  },
  "language_info": {
   "codemirror_mode": {
    "name": "ipython",
    "version": 3
   },
   "file_extension": ".py",
   "mimetype": "text/x-python",
   "name": "python",
   "nbconvert_exporter": "python",
   "pygments_lexer": "ipython3",
   "version": "3.8.8"
  }
 },
 "nbformat": 4,
 "nbformat_minor": 5
}
