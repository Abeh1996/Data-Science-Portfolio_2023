{
 "cells": [
  {
   "cell_type": "markdown",
   "id": "40e73e47",
   "metadata": {},
   "source": [
    "##### camsol.io miniproject\n",
    "## HR Analytics-Employee Retention Prediction"
   ]
  },
  {
   "cell_type": "markdown",
   "id": "e5050e32",
   "metadata": {},
   "source": [
    "### Problem statement\n",
    "- Employee retention prediction using Logistic Regression."
   ]
  },
  {
   "cell_type": "markdown",
   "id": "df136d84",
   "metadata": {},
   "source": [
    "### Outline\n",
    "-Importing important libraries\n",
    "- Reading data using pandas\n",
    "- Exploratory data analysis and visualization.\n",
    "- Data processing for machine learning.\n",
    "- Training a Logistic Regression model.\n",
    "- Model predictions and Evaluation\n",
    "- Features selection using L1 Regularization."
   ]
  },
  {
   "cell_type": "markdown",
   "id": "72abc29b",
   "metadata": {},
   "source": [
    "## Import libraries"
   ]
  },
  {
   "cell_type": "code",
   "execution_count": 98,
   "id": "d83b4438",
   "metadata": {},
   "outputs": [],
   "source": [
    "import pandas as pd\n",
    "import matplotlib.pyplot as plt\n",
    "import seaborn as sns\n",
    "import numpy as np\n",
    "from scipy.stats import shapiro\n",
    "import warnings\n",
    "warnings.filterwarnings('ignore')"
   ]
  },
  {
   "cell_type": "markdown",
   "id": "a8358f16",
   "metadata": {},
   "source": [
    "## Read data using pandas"
   ]
  },
  {
   "cell_type": "code",
   "execution_count": 99,
   "id": "6e43f2f6",
   "metadata": {},
   "outputs": [],
   "source": [
    "HR_df = pd.read_csv(\"D:/sqldatasets/HR_comma_sep.csv\")"
   ]
  },
  {
   "cell_type": "code",
   "execution_count": 100,
   "id": "613389d8",
   "metadata": {},
   "outputs": [
    {
     "data": {
      "text/html": [
       "<div>\n",
       "<style scoped>\n",
       "    .dataframe tbody tr th:only-of-type {\n",
       "        vertical-align: middle;\n",
       "    }\n",
       "\n",
       "    .dataframe tbody tr th {\n",
       "        vertical-align: top;\n",
       "    }\n",
       "\n",
       "    .dataframe thead th {\n",
       "        text-align: right;\n",
       "    }\n",
       "</style>\n",
       "<table border=\"1\" class=\"dataframe\">\n",
       "  <thead>\n",
       "    <tr style=\"text-align: right;\">\n",
       "      <th></th>\n",
       "      <th>satisfaction_level</th>\n",
       "      <th>last_evaluation</th>\n",
       "      <th>number_project</th>\n",
       "      <th>average_montly_hours</th>\n",
       "      <th>time_spend_company</th>\n",
       "      <th>Work_accident</th>\n",
       "      <th>left</th>\n",
       "      <th>promotion_last_5years</th>\n",
       "      <th>sales</th>\n",
       "      <th>salary</th>\n",
       "    </tr>\n",
       "  </thead>\n",
       "  <tbody>\n",
       "    <tr>\n",
       "      <th>0</th>\n",
       "      <td>0.38</td>\n",
       "      <td>0.53</td>\n",
       "      <td>2</td>\n",
       "      <td>157</td>\n",
       "      <td>3</td>\n",
       "      <td>0</td>\n",
       "      <td>1</td>\n",
       "      <td>0</td>\n",
       "      <td>sales</td>\n",
       "      <td>low</td>\n",
       "    </tr>\n",
       "    <tr>\n",
       "      <th>1</th>\n",
       "      <td>0.80</td>\n",
       "      <td>0.86</td>\n",
       "      <td>5</td>\n",
       "      <td>262</td>\n",
       "      <td>6</td>\n",
       "      <td>0</td>\n",
       "      <td>1</td>\n",
       "      <td>0</td>\n",
       "      <td>sales</td>\n",
       "      <td>medium</td>\n",
       "    </tr>\n",
       "    <tr>\n",
       "      <th>2</th>\n",
       "      <td>0.11</td>\n",
       "      <td>0.88</td>\n",
       "      <td>7</td>\n",
       "      <td>272</td>\n",
       "      <td>4</td>\n",
       "      <td>0</td>\n",
       "      <td>1</td>\n",
       "      <td>0</td>\n",
       "      <td>sales</td>\n",
       "      <td>medium</td>\n",
       "    </tr>\n",
       "    <tr>\n",
       "      <th>3</th>\n",
       "      <td>0.72</td>\n",
       "      <td>0.87</td>\n",
       "      <td>5</td>\n",
       "      <td>223</td>\n",
       "      <td>5</td>\n",
       "      <td>0</td>\n",
       "      <td>1</td>\n",
       "      <td>0</td>\n",
       "      <td>sales</td>\n",
       "      <td>low</td>\n",
       "    </tr>\n",
       "    <tr>\n",
       "      <th>4</th>\n",
       "      <td>0.37</td>\n",
       "      <td>0.52</td>\n",
       "      <td>2</td>\n",
       "      <td>159</td>\n",
       "      <td>3</td>\n",
       "      <td>0</td>\n",
       "      <td>1</td>\n",
       "      <td>0</td>\n",
       "      <td>sales</td>\n",
       "      <td>low</td>\n",
       "    </tr>\n",
       "  </tbody>\n",
       "</table>\n",
       "</div>"
      ],
      "text/plain": [
       "   satisfaction_level  last_evaluation  number_project  average_montly_hours  \\\n",
       "0                0.38             0.53               2                   157   \n",
       "1                0.80             0.86               5                   262   \n",
       "2                0.11             0.88               7                   272   \n",
       "3                0.72             0.87               5                   223   \n",
       "4                0.37             0.52               2                   159   \n",
       "\n",
       "   time_spend_company  Work_accident  left  promotion_last_5years  sales  \\\n",
       "0                   3              0     1                      0  sales   \n",
       "1                   6              0     1                      0  sales   \n",
       "2                   4              0     1                      0  sales   \n",
       "3                   5              0     1                      0  sales   \n",
       "4                   3              0     1                      0  sales   \n",
       "\n",
       "   salary  \n",
       "0     low  \n",
       "1  medium  \n",
       "2  medium  \n",
       "3     low  \n",
       "4     low  "
      ]
     },
     "execution_count": 100,
     "metadata": {},
     "output_type": "execute_result"
    }
   ],
   "source": [
    "HR_df.head()"
   ]
  },
  {
   "cell_type": "code",
   "execution_count": 101,
   "id": "42bc4a02",
   "metadata": {},
   "outputs": [],
   "source": [
    "HR_df.rename(columns = {'sales':'department'},inplace = True)"
   ]
  },
  {
   "cell_type": "code",
   "execution_count": 102,
   "id": "13313620",
   "metadata": {},
   "outputs": [
    {
     "data": {
      "text/html": [
       "<div>\n",
       "<style scoped>\n",
       "    .dataframe tbody tr th:only-of-type {\n",
       "        vertical-align: middle;\n",
       "    }\n",
       "\n",
       "    .dataframe tbody tr th {\n",
       "        vertical-align: top;\n",
       "    }\n",
       "\n",
       "    .dataframe thead th {\n",
       "        text-align: right;\n",
       "    }\n",
       "</style>\n",
       "<table border=\"1\" class=\"dataframe\">\n",
       "  <thead>\n",
       "    <tr style=\"text-align: right;\">\n",
       "      <th></th>\n",
       "      <th>satisfaction_level</th>\n",
       "      <th>last_evaluation</th>\n",
       "      <th>number_project</th>\n",
       "      <th>average_montly_hours</th>\n",
       "      <th>time_spend_company</th>\n",
       "      <th>Work_accident</th>\n",
       "      <th>left</th>\n",
       "      <th>promotion_last_5years</th>\n",
       "      <th>department</th>\n",
       "      <th>salary</th>\n",
       "    </tr>\n",
       "  </thead>\n",
       "  <tbody>\n",
       "    <tr>\n",
       "      <th>0</th>\n",
       "      <td>0.38</td>\n",
       "      <td>0.53</td>\n",
       "      <td>2</td>\n",
       "      <td>157</td>\n",
       "      <td>3</td>\n",
       "      <td>0</td>\n",
       "      <td>1</td>\n",
       "      <td>0</td>\n",
       "      <td>sales</td>\n",
       "      <td>low</td>\n",
       "    </tr>\n",
       "    <tr>\n",
       "      <th>1</th>\n",
       "      <td>0.80</td>\n",
       "      <td>0.86</td>\n",
       "      <td>5</td>\n",
       "      <td>262</td>\n",
       "      <td>6</td>\n",
       "      <td>0</td>\n",
       "      <td>1</td>\n",
       "      <td>0</td>\n",
       "      <td>sales</td>\n",
       "      <td>medium</td>\n",
       "    </tr>\n",
       "    <tr>\n",
       "      <th>2</th>\n",
       "      <td>0.11</td>\n",
       "      <td>0.88</td>\n",
       "      <td>7</td>\n",
       "      <td>272</td>\n",
       "      <td>4</td>\n",
       "      <td>0</td>\n",
       "      <td>1</td>\n",
       "      <td>0</td>\n",
       "      <td>sales</td>\n",
       "      <td>medium</td>\n",
       "    </tr>\n",
       "    <tr>\n",
       "      <th>3</th>\n",
       "      <td>0.72</td>\n",
       "      <td>0.87</td>\n",
       "      <td>5</td>\n",
       "      <td>223</td>\n",
       "      <td>5</td>\n",
       "      <td>0</td>\n",
       "      <td>1</td>\n",
       "      <td>0</td>\n",
       "      <td>sales</td>\n",
       "      <td>low</td>\n",
       "    </tr>\n",
       "    <tr>\n",
       "      <th>4</th>\n",
       "      <td>0.37</td>\n",
       "      <td>0.52</td>\n",
       "      <td>2</td>\n",
       "      <td>159</td>\n",
       "      <td>3</td>\n",
       "      <td>0</td>\n",
       "      <td>1</td>\n",
       "      <td>0</td>\n",
       "      <td>sales</td>\n",
       "      <td>low</td>\n",
       "    </tr>\n",
       "  </tbody>\n",
       "</table>\n",
       "</div>"
      ],
      "text/plain": [
       "   satisfaction_level  last_evaluation  number_project  average_montly_hours  \\\n",
       "0                0.38             0.53               2                   157   \n",
       "1                0.80             0.86               5                   262   \n",
       "2                0.11             0.88               7                   272   \n",
       "3                0.72             0.87               5                   223   \n",
       "4                0.37             0.52               2                   159   \n",
       "\n",
       "   time_spend_company  Work_accident  left  promotion_last_5years department  \\\n",
       "0                   3              0     1                      0      sales   \n",
       "1                   6              0     1                      0      sales   \n",
       "2                   4              0     1                      0      sales   \n",
       "3                   5              0     1                      0      sales   \n",
       "4                   3              0     1                      0      sales   \n",
       "\n",
       "   salary  \n",
       "0     low  \n",
       "1  medium  \n",
       "2  medium  \n",
       "3     low  \n",
       "4     low  "
      ]
     },
     "execution_count": 102,
     "metadata": {},
     "output_type": "execute_result"
    }
   ],
   "source": [
    "HR_df.head()"
   ]
  },
  {
   "cell_type": "markdown",
   "id": "4ab08748",
   "metadata": {},
   "source": [
    "## Exploratory Data Analysis(EDA) and Visualization\n",
    "- Finding data types of columns and size of dataset\n",
    "- Missing values detection and treatment\n",
    "- Identifying and deroping duplicate  rows\n",
    "- Droping irrelevant columns\n",
    "- Univariate analysis(Understanding data distribution)\n",
    "- Bivariate analysis(Understanding the relationship between 2 features)\n",
    "- Multivariate analysis(correlation)"
   ]
  },
  {
   "cell_type": "code",
   "execution_count": 103,
   "id": "8fca245a",
   "metadata": {},
   "outputs": [
    {
     "name": "stdout",
     "output_type": "stream",
     "text": [
      "<class 'pandas.core.frame.DataFrame'>\n",
      "RangeIndex: 14999 entries, 0 to 14998\n",
      "Data columns (total 10 columns):\n",
      " #   Column                 Non-Null Count  Dtype  \n",
      "---  ------                 --------------  -----  \n",
      " 0   satisfaction_level     14999 non-null  float64\n",
      " 1   last_evaluation        14999 non-null  float64\n",
      " 2   number_project         14999 non-null  int64  \n",
      " 3   average_montly_hours   14999 non-null  int64  \n",
      " 4   time_spend_company     14999 non-null  int64  \n",
      " 5   Work_accident          14999 non-null  int64  \n",
      " 6   left                   14999 non-null  int64  \n",
      " 7   promotion_last_5years  14999 non-null  int64  \n",
      " 8   department             14999 non-null  object \n",
      " 9   salary                 14999 non-null  object \n",
      "dtypes: float64(2), int64(6), object(2)\n",
      "memory usage: 1.1+ MB\n"
     ]
    }
   ],
   "source": [
    "# Finding the datatypes of columbs\n",
    "HR_df.info()"
   ]
  },
  {
   "cell_type": "code",
   "execution_count": 104,
   "id": "fee93228",
   "metadata": {},
   "outputs": [
    {
     "data": {
      "text/plain": [
       "(14999, 10)"
      ]
     },
     "execution_count": 104,
     "metadata": {},
     "output_type": "execute_result"
    }
   ],
   "source": [
    "#Size of the dataset\n",
    "HR_df.shape"
   ]
  },
  {
   "cell_type": "markdown",
   "id": "3fa0732f",
   "metadata": {},
   "source": [
    "It is good idea to always have an idea about the data size. So as to know how to handle the data without losing much information."
   ]
  },
  {
   "cell_type": "code",
   "execution_count": 105,
   "id": "d218a21d",
   "metadata": {},
   "outputs": [
    {
     "data": {
      "text/plain": [
       "satisfaction_level       0\n",
       "last_evaluation          0\n",
       "number_project           0\n",
       "average_montly_hours     0\n",
       "time_spend_company       0\n",
       "Work_accident            0\n",
       "left                     0\n",
       "promotion_last_5years    0\n",
       "department               0\n",
       "salary                   0\n",
       "dtype: int64"
      ]
     },
     "execution_count": 105,
     "metadata": {},
     "output_type": "execute_result"
    }
   ],
   "source": [
    "## Missing values detection and treatment\n",
    "HR_df.isna().sum()"
   ]
  },
  {
   "cell_type": "markdown",
   "id": "9e954717",
   "metadata": {},
   "source": [
    "Due to the fact that there are no NaN values within the dataset, the dataset seems to be fairly clean."
   ]
  },
  {
   "cell_type": "code",
   "execution_count": 106,
   "id": "ae799381",
   "metadata": {},
   "outputs": [
    {
     "data": {
      "text/plain": [
       "Index(['satisfaction_level', 'last_evaluation', 'number_project',\n",
       "       'average_montly_hours', 'time_spend_company', 'Work_accident', 'left',\n",
       "       'promotion_last_5years', 'department', 'salary'],\n",
       "      dtype='object')"
      ]
     },
     "execution_count": 106,
     "metadata": {},
     "output_type": "execute_result"
    }
   ],
   "source": [
    "HR_df.columns"
   ]
  },
  {
   "cell_type": "markdown",
   "id": "e98962d4",
   "metadata": {},
   "source": [
    "### Statistical analysis"
   ]
  },
  {
   "cell_type": "code",
   "execution_count": 107,
   "id": "2ee10068",
   "metadata": {},
   "outputs": [
    {
     "data": {
      "text/html": [
       "<div>\n",
       "<style scoped>\n",
       "    .dataframe tbody tr th:only-of-type {\n",
       "        vertical-align: middle;\n",
       "    }\n",
       "\n",
       "    .dataframe tbody tr th {\n",
       "        vertical-align: top;\n",
       "    }\n",
       "\n",
       "    .dataframe thead th {\n",
       "        text-align: right;\n",
       "    }\n",
       "</style>\n",
       "<table border=\"1\" class=\"dataframe\">\n",
       "  <thead>\n",
       "    <tr style=\"text-align: right;\">\n",
       "      <th></th>\n",
       "      <th>satisfaction_level</th>\n",
       "      <th>last_evaluation</th>\n",
       "      <th>number_project</th>\n",
       "      <th>average_montly_hours</th>\n",
       "      <th>time_spend_company</th>\n",
       "      <th>Work_accident</th>\n",
       "      <th>left</th>\n",
       "      <th>promotion_last_5years</th>\n",
       "    </tr>\n",
       "  </thead>\n",
       "  <tbody>\n",
       "    <tr>\n",
       "      <th>count</th>\n",
       "      <td>14999.000000</td>\n",
       "      <td>14999.000000</td>\n",
       "      <td>14999.000000</td>\n",
       "      <td>14999.000000</td>\n",
       "      <td>14999.000000</td>\n",
       "      <td>14999.000000</td>\n",
       "      <td>14999.000000</td>\n",
       "      <td>14999.000000</td>\n",
       "    </tr>\n",
       "    <tr>\n",
       "      <th>mean</th>\n",
       "      <td>0.612834</td>\n",
       "      <td>0.716102</td>\n",
       "      <td>3.803054</td>\n",
       "      <td>201.050337</td>\n",
       "      <td>3.498233</td>\n",
       "      <td>0.144610</td>\n",
       "      <td>0.238083</td>\n",
       "      <td>0.021268</td>\n",
       "    </tr>\n",
       "    <tr>\n",
       "      <th>std</th>\n",
       "      <td>0.248631</td>\n",
       "      <td>0.171169</td>\n",
       "      <td>1.232592</td>\n",
       "      <td>49.943099</td>\n",
       "      <td>1.460136</td>\n",
       "      <td>0.351719</td>\n",
       "      <td>0.425924</td>\n",
       "      <td>0.144281</td>\n",
       "    </tr>\n",
       "    <tr>\n",
       "      <th>min</th>\n",
       "      <td>0.090000</td>\n",
       "      <td>0.360000</td>\n",
       "      <td>2.000000</td>\n",
       "      <td>96.000000</td>\n",
       "      <td>2.000000</td>\n",
       "      <td>0.000000</td>\n",
       "      <td>0.000000</td>\n",
       "      <td>0.000000</td>\n",
       "    </tr>\n",
       "    <tr>\n",
       "      <th>25%</th>\n",
       "      <td>0.440000</td>\n",
       "      <td>0.560000</td>\n",
       "      <td>3.000000</td>\n",
       "      <td>156.000000</td>\n",
       "      <td>3.000000</td>\n",
       "      <td>0.000000</td>\n",
       "      <td>0.000000</td>\n",
       "      <td>0.000000</td>\n",
       "    </tr>\n",
       "    <tr>\n",
       "      <th>50%</th>\n",
       "      <td>0.640000</td>\n",
       "      <td>0.720000</td>\n",
       "      <td>4.000000</td>\n",
       "      <td>200.000000</td>\n",
       "      <td>3.000000</td>\n",
       "      <td>0.000000</td>\n",
       "      <td>0.000000</td>\n",
       "      <td>0.000000</td>\n",
       "    </tr>\n",
       "    <tr>\n",
       "      <th>75%</th>\n",
       "      <td>0.820000</td>\n",
       "      <td>0.870000</td>\n",
       "      <td>5.000000</td>\n",
       "      <td>245.000000</td>\n",
       "      <td>4.000000</td>\n",
       "      <td>0.000000</td>\n",
       "      <td>0.000000</td>\n",
       "      <td>0.000000</td>\n",
       "    </tr>\n",
       "    <tr>\n",
       "      <th>max</th>\n",
       "      <td>1.000000</td>\n",
       "      <td>1.000000</td>\n",
       "      <td>7.000000</td>\n",
       "      <td>310.000000</td>\n",
       "      <td>10.000000</td>\n",
       "      <td>1.000000</td>\n",
       "      <td>1.000000</td>\n",
       "      <td>1.000000</td>\n",
       "    </tr>\n",
       "  </tbody>\n",
       "</table>\n",
       "</div>"
      ],
      "text/plain": [
       "       satisfaction_level  last_evaluation  number_project  \\\n",
       "count        14999.000000     14999.000000    14999.000000   \n",
       "mean             0.612834         0.716102        3.803054   \n",
       "std              0.248631         0.171169        1.232592   \n",
       "min              0.090000         0.360000        2.000000   \n",
       "25%              0.440000         0.560000        3.000000   \n",
       "50%              0.640000         0.720000        4.000000   \n",
       "75%              0.820000         0.870000        5.000000   \n",
       "max              1.000000         1.000000        7.000000   \n",
       "\n",
       "       average_montly_hours  time_spend_company  Work_accident          left  \\\n",
       "count          14999.000000        14999.000000   14999.000000  14999.000000   \n",
       "mean             201.050337            3.498233       0.144610      0.238083   \n",
       "std               49.943099            1.460136       0.351719      0.425924   \n",
       "min               96.000000            2.000000       0.000000      0.000000   \n",
       "25%              156.000000            3.000000       0.000000      0.000000   \n",
       "50%              200.000000            3.000000       0.000000      0.000000   \n",
       "75%              245.000000            4.000000       0.000000      0.000000   \n",
       "max              310.000000           10.000000       1.000000      1.000000   \n",
       "\n",
       "       promotion_last_5years  \n",
       "count           14999.000000  \n",
       "mean                0.021268  \n",
       "std                 0.144281  \n",
       "min                 0.000000  \n",
       "25%                 0.000000  \n",
       "50%                 0.000000  \n",
       "75%                 0.000000  \n",
       "max                 1.000000  "
      ]
     },
     "execution_count": 107,
     "metadata": {},
     "output_type": "execute_result"
    }
   ],
   "source": [
    "HR_df.describe()"
   ]
  },
  {
   "cell_type": "markdown",
   "id": "045b8c76",
   "metadata": {},
   "source": [
    "### Distribution of continues data in some columns of the dataset\n",
    "##### Aim:\n",
    "- To checking the skewness of data and\n",
    "- Checking whether the dataset is balanced or not"
   ]
  },
  {
   "cell_type": "code",
   "execution_count": 66,
   "id": "225ca04a",
   "metadata": {},
   "outputs": [
    {
     "data": {
      "text/plain": [
       "satisfaction_level      -0.476360\n",
       "last_evaluation         -0.026622\n",
       "number_project           0.337706\n",
       "average_montly_hours     0.052842\n",
       "time_spend_company       1.853319\n",
       "Work_accident            2.021149\n",
       "left                     1.230043\n",
       "promotion_last_5years    6.636968\n",
       "dtype: float64"
      ]
     },
     "execution_count": 66,
     "metadata": {},
     "output_type": "execute_result"
    }
   ],
   "source": [
    "HR_df.skew(axis = 0, skipna = True)"
   ]
  },
  {
   "cell_type": "markdown",
   "id": "3abb13fc",
   "metadata": {},
   "source": [
    "From the above calculation the entire dataset seems to be either left or right skewed."
   ]
  },
  {
   "cell_type": "code",
   "execution_count": 108,
   "id": "8a1507f6",
   "metadata": {},
   "outputs": [
    {
     "data": {
      "image/png": "[encoded data removed]",
      "text/plain": [
       "<Figure size 432x288 with 1 Axes>"
      ]
     },
     "metadata": {
      "needs_background": "light"
     },
     "output_type": "display_data"
    },
    {
     "data": {
      "image/png": "[encoded data removed]",
      "text/plain": [
       "<Figure size 432x288 with 1 Axes>"
      ]
     },
     "metadata": {
      "needs_background": "light"
     },
     "output_type": "display_data"
    },
    {
     "data": {
      "image/png": "[encoded data removed]",
      "text/plain": [
       "<Figure size 432x288 with 1 Axes>"
      ]
     },
     "metadata": {
      "needs_background": "light"
     },
     "output_type": "display_data"
    }
   ],
   "source": [
    "cols = ['satisfaction_level','last_evaluation','average_montly_hours']\n",
    "\n",
    "for x in cols:\n",
    "    plt.figure()\n",
    "    sns.distplot(HR_df[x])\n",
    "    plt.title(\"{} distribution\".format(x))"
   ]
  },
  {
   "cell_type": "markdown",
   "id": "722ab458",
   "metadata": {},
   "source": [
    "It could be observed from the above visualization that data in of the columns in the dataset is not normally distributed. That is the the dataset is skewed as the mean of each column differs from it median value."
   ]
  },
  {
   "cell_type": "markdown",
   "id": "e26714e9",
   "metadata": {},
   "source": [
    "####  Left column distribution"
   ]
  },
  {
   "cell_type": "code",
   "execution_count": 40,
   "id": "19782c0c",
   "metadata": {},
   "outputs": [
    {
     "data": {
      "text/plain": [
       "0    0.761917\n",
       "1    0.238083\n",
       "Name: left, dtype: float64"
      ]
     },
     "execution_count": 40,
     "metadata": {},
     "output_type": "execute_result"
    }
   ],
   "source": [
    "HR_df['left'].value_counts(normalize = True)"
   ]
  },
  {
   "cell_type": "code",
   "execution_count": 41,
   "id": "873c367f",
   "metadata": {},
   "outputs": [
    {
     "data": {
      "text/plain": [
       "Text(0.5, 1.0, 'left distribution')"
      ]
     },
     "execution_count": 41,
     "metadata": {},
     "output_type": "execute_result"
    },
    {
     "data": {
      "image/png": "[encoded data removed]",
      "text/plain": [
       "<Figure size 432x288 with 1 Axes>"
      ]
     },
     "metadata": {
      "needs_background": "light"
     },
     "output_type": "display_data"
    }
   ],
   "source": [
    "sns.barplot(y = HR_df['left'].value_counts().values, x = HR_df['left'].value_counts().index)\n",
    "plt.xlabel('left')\n",
    "plt.ylabel('counts')\n",
    "plt.title('left distribution')"
   ]
  },
  {
   "cell_type": "markdown",
   "id": "7555cf2a",
   "metadata": {},
   "source": [
    "- About 76.2% of the employees were retent while 23.8% was not. From this statistics it could be said that the dataset is imbalanced.\n",
    "- To solve this problem Tree algorithms(Decision Tress, RandomForest and GBMs could be used) instead of down_sampling or over_sampling."
   ]
  },
  {
   "cell_type": "markdown",
   "id": "435d1d4c",
   "metadata": {},
   "source": [
    "### Understanding the effect of each column on customer retention"
   ]
  },
  {
   "cell_type": "markdown",
   "id": "72200be4",
   "metadata": {},
   "source": [
    "##### Employee Salary"
   ]
  },
  {
   "cell_type": "code",
   "execution_count": 42,
   "id": "ba7afaec",
   "metadata": {},
   "outputs": [
    {
     "data": {
      "text/plain": [
       "<AxesSubplot:xlabel='salary', ylabel='count'>"
      ]
     },
     "execution_count": 42,
     "metadata": {},
     "output_type": "execute_result"
    },
    {
     "data": {
      "image/png": "[encoded data removed]",
      "text/plain": [
       "<Figure size 432x288 with 1 Axes>"
      ]
     },
     "metadata": {
      "needs_background": "light"
     },
     "output_type": "display_data"
    }
   ],
   "source": [
    "sns.countplot(HR_df['salary'], hue = HR_df['left'])"
   ]
  },
  {
   "cell_type": "markdown",
   "id": "3968bd16",
   "metadata": {},
   "source": [
    "It could be observed from the above visualization that the lower the employee salary,the greater the tendecy for the employee to leave. Therefore there seems to exist a negative correlation between the employee salary and the target."
   ]
  },
  {
   "cell_type": "markdown",
   "id": "6f2ba4f3",
   "metadata": {},
   "source": [
    "##### Employee department"
   ]
  },
  {
   "cell_type": "code",
   "execution_count": 44,
   "id": "9dbd9008",
   "metadata": {},
   "outputs": [
    {
     "data": {
      "text/plain": [
       "<AxesSubplot:xlabel='department'>"
      ]
     },
     "execution_count": 44,
     "metadata": {},
     "output_type": "execute_result"
    },
    {
     "data": {
      "image/png": "[encoded data removed]",
      "text/plain": [
       "<Figure size 432x288 with 1 Axes>"
      ]
     },
     "metadata": {
      "needs_background": "light"
     },
     "output_type": "display_data"
    }
   ],
   "source": [
    "pd.crosstab(HR_df['department'],HR_df['left']).plot(kind = 'bar')"
   ]
  },
  {
   "cell_type": "markdown",
   "id": "a2893832",
   "metadata": {},
   "source": [
    "Most of the employees that left were in the sales, technical and support departments. Therefore the tendency that in any of these department will leave is high."
   ]
  },
  {
   "cell_type": "code",
   "execution_count": 45,
   "id": "aa36ff3c",
   "metadata": {},
   "outputs": [
    {
     "data": {
      "text/html": [
       "<div>\n",
       "<style scoped>\n",
       "    .dataframe tbody tr th:only-of-type {\n",
       "        vertical-align: middle;\n",
       "    }\n",
       "\n",
       "    .dataframe tbody tr th {\n",
       "        vertical-align: top;\n",
       "    }\n",
       "\n",
       "    .dataframe thead th {\n",
       "        text-align: right;\n",
       "    }\n",
       "</style>\n",
       "<table border=\"1\" class=\"dataframe\">\n",
       "  <thead>\n",
       "    <tr style=\"text-align: right;\">\n",
       "      <th></th>\n",
       "      <th>satisfaction_level</th>\n",
       "      <th>last_evaluation</th>\n",
       "      <th>number_project</th>\n",
       "      <th>average_montly_hours</th>\n",
       "      <th>time_spend_company</th>\n",
       "      <th>Work_accident</th>\n",
       "      <th>left</th>\n",
       "      <th>promotion_last_5years</th>\n",
       "      <th>department</th>\n",
       "      <th>salary</th>\n",
       "    </tr>\n",
       "  </thead>\n",
       "  <tbody>\n",
       "    <tr>\n",
       "      <th>0</th>\n",
       "      <td>0.38</td>\n",
       "      <td>0.53</td>\n",
       "      <td>2</td>\n",
       "      <td>157</td>\n",
       "      <td>3</td>\n",
       "      <td>0</td>\n",
       "      <td>1</td>\n",
       "      <td>0</td>\n",
       "      <td>sales</td>\n",
       "      <td>low</td>\n",
       "    </tr>\n",
       "    <tr>\n",
       "      <th>1</th>\n",
       "      <td>0.80</td>\n",
       "      <td>0.86</td>\n",
       "      <td>5</td>\n",
       "      <td>262</td>\n",
       "      <td>6</td>\n",
       "      <td>0</td>\n",
       "      <td>1</td>\n",
       "      <td>0</td>\n",
       "      <td>sales</td>\n",
       "      <td>medium</td>\n",
       "    </tr>\n",
       "    <tr>\n",
       "      <th>2</th>\n",
       "      <td>0.11</td>\n",
       "      <td>0.88</td>\n",
       "      <td>7</td>\n",
       "      <td>272</td>\n",
       "      <td>4</td>\n",
       "      <td>0</td>\n",
       "      <td>1</td>\n",
       "      <td>0</td>\n",
       "      <td>sales</td>\n",
       "      <td>medium</td>\n",
       "    </tr>\n",
       "    <tr>\n",
       "      <th>3</th>\n",
       "      <td>0.72</td>\n",
       "      <td>0.87</td>\n",
       "      <td>5</td>\n",
       "      <td>223</td>\n",
       "      <td>5</td>\n",
       "      <td>0</td>\n",
       "      <td>1</td>\n",
       "      <td>0</td>\n",
       "      <td>sales</td>\n",
       "      <td>low</td>\n",
       "    </tr>\n",
       "    <tr>\n",
       "      <th>4</th>\n",
       "      <td>0.37</td>\n",
       "      <td>0.52</td>\n",
       "      <td>2</td>\n",
       "      <td>159</td>\n",
       "      <td>3</td>\n",
       "      <td>0</td>\n",
       "      <td>1</td>\n",
       "      <td>0</td>\n",
       "      <td>sales</td>\n",
       "      <td>low</td>\n",
       "    </tr>\n",
       "  </tbody>\n",
       "</table>\n",
       "</div>"
      ],
      "text/plain": [
       "   satisfaction_level  last_evaluation  number_project  average_montly_hours  \\\n",
       "0                0.38             0.53               2                   157   \n",
       "1                0.80             0.86               5                   262   \n",
       "2                0.11             0.88               7                   272   \n",
       "3                0.72             0.87               5                   223   \n",
       "4                0.37             0.52               2                   159   \n",
       "\n",
       "   time_spend_company  Work_accident  left  promotion_last_5years department  \\\n",
       "0                   3              0     1                      0      sales   \n",
       "1                   6              0     1                      0      sales   \n",
       "2                   4              0     1                      0      sales   \n",
       "3                   5              0     1                      0      sales   \n",
       "4                   3              0     1                      0      sales   \n",
       "\n",
       "   salary  \n",
       "0     low  \n",
       "1  medium  \n",
       "2  medium  \n",
       "3     low  \n",
       "4     low  "
      ]
     },
     "execution_count": 45,
     "metadata": {},
     "output_type": "execute_result"
    }
   ],
   "source": [
    "HR_df.head()"
   ]
  },
  {
   "cell_type": "markdown",
   "id": "b7a2754b",
   "metadata": {},
   "source": [
    "###### Satisfaction level"
   ]
  },
  {
   "cell_type": "code",
   "execution_count": 18,
   "id": "4956b82f",
   "metadata": {},
   "outputs": [
    {
     "data": {
      "text/plain": [
       "<AxesSubplot:xlabel='left', ylabel='satisfaction_level'>"
      ]
     },
     "execution_count": 18,
     "metadata": {},
     "output_type": "execute_result"
    },
    {
     "data": {
      "image/png": "[encoded data removed]",
      "text/plain": [
       "<Figure size 432x288 with 1 Axes>"
      ]
     },
     "metadata": {
      "needs_background": "light"
     },
     "output_type": "display_data"
    }
   ],
   "source": [
    "sns.violinplot(data = HR_df, x= 'left', y = 'satisfaction_level')"
   ]
  },
  {
   "cell_type": "markdown",
   "id": "8d43e89e",
   "metadata": {},
   "source": [
    " Most of the works that left had their satisfaction level arround 0.4"
   ]
  },
  {
   "cell_type": "markdown",
   "id": "5bbe36af",
   "metadata": {},
   "source": [
    "##### promotion_last_5years"
   ]
  },
  {
   "cell_type": "code",
   "execution_count": 19,
   "id": "2df012ed",
   "metadata": {},
   "outputs": [
    {
     "data": {
      "text/plain": [
       "0    14680\n",
       "1      319\n",
       "Name: promotion_last_5years, dtype: int64"
      ]
     },
     "execution_count": 19,
     "metadata": {},
     "output_type": "execute_result"
    }
   ],
   "source": [
    "HR_df['promotion_last_5years'].value_counts()"
   ]
  },
  {
   "cell_type": "code",
   "execution_count": 20,
   "id": "044ded9b",
   "metadata": {},
   "outputs": [
    {
     "data": {
      "text/plain": [
       "<AxesSubplot:xlabel='promotion_last_5years', ylabel='count'>"
      ]
     },
     "execution_count": 20,
     "metadata": {},
     "output_type": "execute_result"
    },
    {
     "data": {
      "image/png": "[encoded data removed]",
      "text/plain": [
       "<Figure size 432x288 with 1 Axes>"
      ]
     },
     "metadata": {
      "needs_background": "light"
     },
     "output_type": "display_data"
    }
   ],
   "source": [
    "sns.countplot(data = HR_df,x='promotion_last_5years',hue = 'left')"
   ]
  },
  {
   "cell_type": "markdown",
   "id": "2ccb686a",
   "metadata": {},
   "source": [
    "97.9% of the employees has not had promotion for the past 5 years and some of them have left the company. Therefore the tendency that an employee who has not had promotion for the past 5 years will leave is high."
   ]
  },
  {
   "cell_type": "code",
   "execution_count": 21,
   "id": "c68b30cb",
   "metadata": {},
   "outputs": [
    {
     "data": {
      "text/plain": [
       "<AxesSubplot:xlabel='average_montly_hours', ylabel='last_evaluation'>"
      ]
     },
     "execution_count": 21,
     "metadata": {},
     "output_type": "execute_result"
    },
    {
     "data": {
      "image/png": "[encoded data removed]",
      "text/plain": [
       "<Figure size 432x288 with 1 Axes>"
      ]
     },
     "metadata": {
      "needs_background": "light"
     },
     "output_type": "display_data"
    }
   ],
   "source": [
    "sns.scatterplot(data = HR_df,x = 'average_montly_hours',y ='last_evaluation',hue = 'left')"
   ]
  },
  {
   "cell_type": "markdown",
   "id": "af1ae8d3",
   "metadata": {},
   "source": [
    "- Also, most of the employee that left the company had average_monthly working hours of 225 and above and an evauation of 0.8 and above. "
   ]
  },
  {
   "cell_type": "markdown",
   "id": "32c02bfa",
   "metadata": {},
   "source": [
    "### Correlation Test"
   ]
  },
  {
   "cell_type": "code",
   "execution_count": 22,
   "id": "dd4537aa",
   "metadata": {},
   "outputs": [
    {
     "data": {
      "text/plain": [
       "<AxesSubplot:>"
      ]
     },
     "execution_count": 22,
     "metadata": {},
     "output_type": "execute_result"
    },
    {
     "data": {
      "image/png": "[encoded data removed]",
      "text/plain": [
       "<Figure size 432x288 with 2 Axes>"
      ]
     },
     "metadata": {
      "needs_background": "light"
     },
     "output_type": "display_data"
    }
   ],
   "source": [
    "sns.heatmap(HR_df.corr(method = 'pearson'),cmap = 'coolwarm',annot = True)"
   ]
  },
  {
   "cell_type": "markdown",
   "id": "65bf6177",
   "metadata": {},
   "source": [
    "From the correlation matrix above,\n",
    "- The target column left seems to have strong negative correlation with the employee statisfaction."
   ]
  },
  {
   "cell_type": "markdown",
   "id": "c413e9dc",
   "metadata": {},
   "source": [
    "#### Handling the skewness of data using Log transform\n",
    "- This is to help normalize the data"
   ]
  },
  {
   "cell_type": "code",
   "execution_count": 65,
   "id": "038df71c",
   "metadata": {},
   "outputs": [
    {
     "data": {
      "text/plain": [
       "-1.554380152249328"
      ]
     },
     "execution_count": 65,
     "metadata": {},
     "output_type": "execute_result"
    }
   ],
   "source": [
    "np.log(HR_df['satisfaction_level']).skew()"
   ]
  },
  {
   "cell_type": "code",
   "execution_count": 67,
   "id": "8c36f20d",
   "metadata": {},
   "outputs": [],
   "source": [
    "# Log transform multiple columns in dataframe \n",
    "HR_df[['satisfaction_level', 'last_evaluation', 'number_project',\n",
    "       'average_montly_hours', 'time_spend_company']] = HR_df[['satisfaction_level', 'last_evaluation', 'number_project',\n",
    "       'average_montly_hours', 'time_spend_company']].apply(lambda x: np.log(x))"
   ]
  },
  {
   "cell_type": "code",
   "execution_count": 68,
   "id": "5e8dd839",
   "metadata": {},
   "outputs": [
    {
     "data": {
      "text/plain": [
       "satisfaction_level      -1.554380\n",
       "last_evaluation         -0.335510\n",
       "number_project          -0.294982\n",
       "average_montly_hours    -0.302675\n",
       "time_spend_company       0.588533\n",
       "Work_accident            2.021149\n",
       "left                     1.230043\n",
       "promotion_last_5years    6.636968\n",
       "dtype: float64"
      ]
     },
     "execution_count": 68,
     "metadata": {},
     "output_type": "execute_result"
    }
   ],
   "source": [
    "HR_df.skew()"
   ]
  },
  {
   "cell_type": "code",
   "execution_count": 69,
   "id": "84e3ec04",
   "metadata": {},
   "outputs": [
    {
     "data": {
      "text/html": [
       "<div>\n",
       "<style scoped>\n",
       "    .dataframe tbody tr th:only-of-type {\n",
       "        vertical-align: middle;\n",
       "    }\n",
       "\n",
       "    .dataframe tbody tr th {\n",
       "        vertical-align: top;\n",
       "    }\n",
       "\n",
       "    .dataframe thead th {\n",
       "        text-align: right;\n",
       "    }\n",
       "</style>\n",
       "<table border=\"1\" class=\"dataframe\">\n",
       "  <thead>\n",
       "    <tr style=\"text-align: right;\">\n",
       "      <th></th>\n",
       "      <th>satisfaction_level</th>\n",
       "      <th>last_evaluation</th>\n",
       "      <th>number_project</th>\n",
       "      <th>average_montly_hours</th>\n",
       "      <th>time_spend_company</th>\n",
       "      <th>Work_accident</th>\n",
       "      <th>left</th>\n",
       "      <th>promotion_last_5years</th>\n",
       "      <th>department</th>\n",
       "      <th>salary</th>\n",
       "    </tr>\n",
       "  </thead>\n",
       "  <tbody>\n",
       "    <tr>\n",
       "      <th>0</th>\n",
       "      <td>-0.967584</td>\n",
       "      <td>-0.634878</td>\n",
       "      <td>0.693147</td>\n",
       "      <td>5.056246</td>\n",
       "      <td>1.098612</td>\n",
       "      <td>0</td>\n",
       "      <td>1</td>\n",
       "      <td>0</td>\n",
       "      <td>sales</td>\n",
       "      <td>low</td>\n",
       "    </tr>\n",
       "    <tr>\n",
       "      <th>1</th>\n",
       "      <td>-0.223144</td>\n",
       "      <td>-0.150823</td>\n",
       "      <td>1.609438</td>\n",
       "      <td>5.568345</td>\n",
       "      <td>1.791759</td>\n",
       "      <td>0</td>\n",
       "      <td>1</td>\n",
       "      <td>0</td>\n",
       "      <td>sales</td>\n",
       "      <td>medium</td>\n",
       "    </tr>\n",
       "    <tr>\n",
       "      <th>2</th>\n",
       "      <td>-2.207275</td>\n",
       "      <td>-0.127833</td>\n",
       "      <td>1.945910</td>\n",
       "      <td>5.605802</td>\n",
       "      <td>1.386294</td>\n",
       "      <td>0</td>\n",
       "      <td>1</td>\n",
       "      <td>0</td>\n",
       "      <td>sales</td>\n",
       "      <td>medium</td>\n",
       "    </tr>\n",
       "    <tr>\n",
       "      <th>3</th>\n",
       "      <td>-0.328504</td>\n",
       "      <td>-0.139262</td>\n",
       "      <td>1.609438</td>\n",
       "      <td>5.407172</td>\n",
       "      <td>1.609438</td>\n",
       "      <td>0</td>\n",
       "      <td>1</td>\n",
       "      <td>0</td>\n",
       "      <td>sales</td>\n",
       "      <td>low</td>\n",
       "    </tr>\n",
       "    <tr>\n",
       "      <th>4</th>\n",
       "      <td>-0.994252</td>\n",
       "      <td>-0.653926</td>\n",
       "      <td>0.693147</td>\n",
       "      <td>5.068904</td>\n",
       "      <td>1.098612</td>\n",
       "      <td>0</td>\n",
       "      <td>1</td>\n",
       "      <td>0</td>\n",
       "      <td>sales</td>\n",
       "      <td>low</td>\n",
       "    </tr>\n",
       "  </tbody>\n",
       "</table>\n",
       "</div>"
      ],
      "text/plain": [
       "   satisfaction_level  last_evaluation  number_project  average_montly_hours  \\\n",
       "0           -0.967584        -0.634878        0.693147              5.056246   \n",
       "1           -0.223144        -0.150823        1.609438              5.568345   \n",
       "2           -2.207275        -0.127833        1.945910              5.605802   \n",
       "3           -0.328504        -0.139262        1.609438              5.407172   \n",
       "4           -0.994252        -0.653926        0.693147              5.068904   \n",
       "\n",
       "   time_spend_company  Work_accident  left  promotion_last_5years department  \\\n",
       "0            1.098612              0     1                      0      sales   \n",
       "1            1.791759              0     1                      0      sales   \n",
       "2            1.386294              0     1                      0      sales   \n",
       "3            1.609438              0     1                      0      sales   \n",
       "4            1.098612              0     1                      0      sales   \n",
       "\n",
       "   salary  \n",
       "0     low  \n",
       "1  medium  \n",
       "2  medium  \n",
       "3     low  \n",
       "4     low  "
      ]
     },
     "execution_count": 69,
     "metadata": {},
     "output_type": "execute_result"
    }
   ],
   "source": [
    "HR_df.head()"
   ]
  },
  {
   "cell_type": "markdown",
   "id": "8c067ab7",
   "metadata": {},
   "source": [
    "### Building a Machine Learning Model to Predict Employee Retention\n",
    "- This is a binary classification problem with just two outcomes (employee will leave(1) or employee will not leave(0)) to be predicted. The suitable model that can be used for this problem is _Logistic Regression_.\n",
    "- This phase will include:\n",
    "1. Data processing for the ML model\n",
    "2. Building ,Training and Validation of the Logistic regression model\n",
    "3. Model Testing and Evaluation.\n",
    "4. Model Optimization through Hyperparameters tuning"
   ]
  },
  {
   "cell_type": "markdown",
   "id": "45ac3cee",
   "metadata": {},
   "source": [
    "## Data processing for the ML model"
   ]
  },
  {
   "cell_type": "markdown",
   "id": "c861a82b",
   "metadata": {},
   "source": [
    "#### Splitting the dataset set into training,validation and test sets"
   ]
  },
  {
   "cell_type": "code",
   "execution_count": 70,
   "id": "8e5c1c9a",
   "metadata": {},
   "outputs": [],
   "source": [
    "from sklearn.model_selection import train_test_split"
   ]
  },
  {
   "cell_type": "code",
   "execution_count": 71,
   "id": "56cdf59e",
   "metadata": {},
   "outputs": [],
   "source": [
    "train_val_df,test_df = train_test_split(HR_df, test_size = 0.2, random_state = 42)"
   ]
  },
  {
   "cell_type": "code",
   "execution_count": 72,
   "id": "45e5a1d9",
   "metadata": {},
   "outputs": [],
   "source": [
    "train_df,val_df = train_test_split(train_val_df, test_size = 0.25, random_state = 42)"
   ]
  },
  {
   "cell_type": "code",
   "execution_count": 73,
   "id": "d6c6253c",
   "metadata": {},
   "outputs": [
    {
     "data": {
      "text/html": [
       "<div>\n",
       "<style scoped>\n",
       "    .dataframe tbody tr th:only-of-type {\n",
       "        vertical-align: middle;\n",
       "    }\n",
       "\n",
       "    .dataframe tbody tr th {\n",
       "        vertical-align: top;\n",
       "    }\n",
       "\n",
       "    .dataframe thead th {\n",
       "        text-align: right;\n",
       "    }\n",
       "</style>\n",
       "<table border=\"1\" class=\"dataframe\">\n",
       "  <thead>\n",
       "    <tr style=\"text-align: right;\">\n",
       "      <th></th>\n",
       "      <th>satisfaction_level</th>\n",
       "      <th>last_evaluation</th>\n",
       "      <th>number_project</th>\n",
       "      <th>average_montly_hours</th>\n",
       "      <th>time_spend_company</th>\n",
       "      <th>Work_accident</th>\n",
       "      <th>left</th>\n",
       "      <th>promotion_last_5years</th>\n",
       "      <th>department</th>\n",
       "      <th>salary</th>\n",
       "    </tr>\n",
       "  </thead>\n",
       "  <tbody>\n",
       "    <tr>\n",
       "      <th>2976</th>\n",
       "      <td>-1.427116</td>\n",
       "      <td>-0.597837</td>\n",
       "      <td>1.609438</td>\n",
       "      <td>5.337538</td>\n",
       "      <td>1.609438</td>\n",
       "      <td>0</td>\n",
       "      <td>0</td>\n",
       "      <td>0</td>\n",
       "      <td>RandD</td>\n",
       "      <td>low</td>\n",
       "    </tr>\n",
       "    <tr>\n",
       "      <th>11307</th>\n",
       "      <td>-0.328504</td>\n",
       "      <td>-0.478036</td>\n",
       "      <td>1.098612</td>\n",
       "      <td>5.493061</td>\n",
       "      <td>0.693147</td>\n",
       "      <td>1</td>\n",
       "      <td>0</td>\n",
       "      <td>0</td>\n",
       "      <td>hr</td>\n",
       "      <td>low</td>\n",
       "    </tr>\n",
       "    <tr>\n",
       "      <th>7699</th>\n",
       "      <td>-0.713350</td>\n",
       "      <td>-0.223144</td>\n",
       "      <td>1.098612</td>\n",
       "      <td>5.472271</td>\n",
       "      <td>1.386294</td>\n",
       "      <td>0</td>\n",
       "      <td>0</td>\n",
       "      <td>0</td>\n",
       "      <td>product_mng</td>\n",
       "      <td>low</td>\n",
       "    </tr>\n",
       "  </tbody>\n",
       "</table>\n",
       "</div>"
      ],
      "text/plain": [
       "       satisfaction_level  last_evaluation  number_project  \\\n",
       "2976            -1.427116        -0.597837        1.609438   \n",
       "11307           -0.328504        -0.478036        1.098612   \n",
       "7699            -0.713350        -0.223144        1.098612   \n",
       "\n",
       "       average_montly_hours  time_spend_company  Work_accident  left  \\\n",
       "2976               5.337538            1.609438              0     0   \n",
       "11307              5.493061            0.693147              1     0   \n",
       "7699               5.472271            1.386294              0     0   \n",
       "\n",
       "       promotion_last_5years   department salary  \n",
       "2976                       0        RandD    low  \n",
       "11307                      0           hr    low  \n",
       "7699                       0  product_mng    low  "
      ]
     },
     "execution_count": 73,
     "metadata": {},
     "output_type": "execute_result"
    }
   ],
   "source": [
    "train_df.head(3)"
   ]
  },
  {
   "cell_type": "code",
   "execution_count": 74,
   "id": "0d67c3b6",
   "metadata": {},
   "outputs": [
    {
     "data": {
      "text/html": [
       "<div>\n",
       "<style scoped>\n",
       "    .dataframe tbody tr th:only-of-type {\n",
       "        vertical-align: middle;\n",
       "    }\n",
       "\n",
       "    .dataframe tbody tr th {\n",
       "        vertical-align: top;\n",
       "    }\n",
       "\n",
       "    .dataframe thead th {\n",
       "        text-align: right;\n",
       "    }\n",
       "</style>\n",
       "<table border=\"1\" class=\"dataframe\">\n",
       "  <thead>\n",
       "    <tr style=\"text-align: right;\">\n",
       "      <th></th>\n",
       "      <th>satisfaction_level</th>\n",
       "      <th>last_evaluation</th>\n",
       "      <th>number_project</th>\n",
       "      <th>average_montly_hours</th>\n",
       "      <th>time_spend_company</th>\n",
       "      <th>Work_accident</th>\n",
       "      <th>left</th>\n",
       "      <th>promotion_last_5years</th>\n",
       "      <th>department</th>\n",
       "      <th>salary</th>\n",
       "    </tr>\n",
       "  </thead>\n",
       "  <tbody>\n",
       "    <tr>\n",
       "      <th>3002</th>\n",
       "      <td>-0.843970</td>\n",
       "      <td>-0.462035</td>\n",
       "      <td>1.098612</td>\n",
       "      <td>5.049856</td>\n",
       "      <td>1.098612</td>\n",
       "      <td>0</td>\n",
       "      <td>0</td>\n",
       "      <td>0</td>\n",
       "      <td>sales</td>\n",
       "      <td>medium</td>\n",
       "    </tr>\n",
       "    <tr>\n",
       "      <th>6653</th>\n",
       "      <td>-0.061875</td>\n",
       "      <td>-0.415515</td>\n",
       "      <td>1.386294</td>\n",
       "      <td>5.438079</td>\n",
       "      <td>0.693147</td>\n",
       "      <td>0</td>\n",
       "      <td>0</td>\n",
       "      <td>0</td>\n",
       "      <td>sales</td>\n",
       "      <td>low</td>\n",
       "    </tr>\n",
       "    <tr>\n",
       "      <th>7948</th>\n",
       "      <td>-0.261365</td>\n",
       "      <td>-0.733969</td>\n",
       "      <td>1.098612</td>\n",
       "      <td>5.318120</td>\n",
       "      <td>1.791759</td>\n",
       "      <td>0</td>\n",
       "      <td>0</td>\n",
       "      <td>0</td>\n",
       "      <td>sales</td>\n",
       "      <td>high</td>\n",
       "    </tr>\n",
       "  </tbody>\n",
       "</table>\n",
       "</div>"
      ],
      "text/plain": [
       "      satisfaction_level  last_evaluation  number_project  \\\n",
       "3002           -0.843970        -0.462035        1.098612   \n",
       "6653           -0.061875        -0.415515        1.386294   \n",
       "7948           -0.261365        -0.733969        1.098612   \n",
       "\n",
       "      average_montly_hours  time_spend_company  Work_accident  left  \\\n",
       "3002              5.049856            1.098612              0     0   \n",
       "6653              5.438079            0.693147              0     0   \n",
       "7948              5.318120            1.791759              0     0   \n",
       "\n",
       "      promotion_last_5years department  salary  \n",
       "3002                      0      sales  medium  \n",
       "6653                      0      sales     low  \n",
       "7948                      0      sales    high  "
      ]
     },
     "execution_count": 74,
     "metadata": {},
     "output_type": "execute_result"
    }
   ],
   "source": [
    "val_df.head(3)"
   ]
  },
  {
   "cell_type": "code",
   "execution_count": 75,
   "id": "63c105cb",
   "metadata": {},
   "outputs": [
    {
     "data": {
      "text/html": [
       "<div>\n",
       "<style scoped>\n",
       "    .dataframe tbody tr th:only-of-type {\n",
       "        vertical-align: middle;\n",
       "    }\n",
       "\n",
       "    .dataframe tbody tr th {\n",
       "        vertical-align: top;\n",
       "    }\n",
       "\n",
       "    .dataframe thead th {\n",
       "        text-align: right;\n",
       "    }\n",
       "</style>\n",
       "<table border=\"1\" class=\"dataframe\">\n",
       "  <thead>\n",
       "    <tr style=\"text-align: right;\">\n",
       "      <th></th>\n",
       "      <th>satisfaction_level</th>\n",
       "      <th>last_evaluation</th>\n",
       "      <th>number_project</th>\n",
       "      <th>average_montly_hours</th>\n",
       "      <th>time_spend_company</th>\n",
       "      <th>Work_accident</th>\n",
       "      <th>left</th>\n",
       "      <th>promotion_last_5years</th>\n",
       "      <th>department</th>\n",
       "      <th>salary</th>\n",
       "    </tr>\n",
       "  </thead>\n",
       "  <tbody>\n",
       "    <tr>\n",
       "      <th>6723</th>\n",
       "      <td>-0.430783</td>\n",
       "      <td>-0.040822</td>\n",
       "      <td>1.609438</td>\n",
       "      <td>5.420535</td>\n",
       "      <td>0.693147</td>\n",
       "      <td>1</td>\n",
       "      <td>0</td>\n",
       "      <td>0</td>\n",
       "      <td>marketing</td>\n",
       "      <td>medium</td>\n",
       "    </tr>\n",
       "    <tr>\n",
       "      <th>6473</th>\n",
       "      <td>-0.127833</td>\n",
       "      <td>-0.223144</td>\n",
       "      <td>1.098612</td>\n",
       "      <td>5.111988</td>\n",
       "      <td>0.693147</td>\n",
       "      <td>0</td>\n",
       "      <td>0</td>\n",
       "      <td>0</td>\n",
       "      <td>IT</td>\n",
       "      <td>low</td>\n",
       "    </tr>\n",
       "    <tr>\n",
       "      <th>4679</th>\n",
       "      <td>-0.371064</td>\n",
       "      <td>-0.020203</td>\n",
       "      <td>1.098612</td>\n",
       "      <td>5.365976</td>\n",
       "      <td>0.693147</td>\n",
       "      <td>0</td>\n",
       "      <td>0</td>\n",
       "      <td>0</td>\n",
       "      <td>sales</td>\n",
       "      <td>low</td>\n",
       "    </tr>\n",
       "  </tbody>\n",
       "</table>\n",
       "</div>"
      ],
      "text/plain": [
       "      satisfaction_level  last_evaluation  number_project  \\\n",
       "6723           -0.430783        -0.040822        1.609438   \n",
       "6473           -0.127833        -0.223144        1.098612   \n",
       "4679           -0.371064        -0.020203        1.098612   \n",
       "\n",
       "      average_montly_hours  time_spend_company  Work_accident  left  \\\n",
       "6723              5.420535            0.693147              1     0   \n",
       "6473              5.111988            0.693147              0     0   \n",
       "4679              5.365976            0.693147              0     0   \n",
       "\n",
       "      promotion_last_5years department  salary  \n",
       "6723                      0  marketing  medium  \n",
       "6473                      0         IT     low  \n",
       "4679                      0      sales     low  "
      ]
     },
     "execution_count": 75,
     "metadata": {},
     "output_type": "execute_result"
    }
   ],
   "source": [
    "test_df.head(3)"
   ]
  },
  {
   "cell_type": "markdown",
   "id": "d12e40f4",
   "metadata": {},
   "source": [
    "#### Identifying Input and Target Columns"
   ]
  },
  {
   "cell_type": "code",
   "execution_count": 76,
   "id": "2d2ca04e",
   "metadata": {},
   "outputs": [],
   "source": [
    "input_cols = ['satisfaction_level', 'last_evaluation', 'number_project',\n",
    "       'average_montly_hours', 'time_spend_company', 'Work_accident',\n",
    "       'promotion_last_5years', 'department', 'salary']\n",
    "\n",
    "target_col = 'left'"
   ]
  },
  {
   "cell_type": "code",
   "execution_count": 77,
   "id": "53416f73",
   "metadata": {},
   "outputs": [],
   "source": [
    "#create inputs and targets for the training, validation and test sets for\n",
    "#further processing and model training.\n",
    "#Training set\n",
    "train_input = train_df[input_cols]\n",
    "train_target = train_df[target_col]\n",
    "#Validation set\n",
    "val_input = val_df[input_cols]\n",
    "val_target = val_df[target_col]\n",
    "#Test set\n",
    "test_input = test_df[input_cols]\n",
    "test_target = test_df[target_col]\n"
   ]
  },
  {
   "cell_type": "code",
   "execution_count": 78,
   "id": "27288a00",
   "metadata": {},
   "outputs": [
    {
     "data": {
      "text/html": [
       "<div>\n",
       "<style scoped>\n",
       "    .dataframe tbody tr th:only-of-type {\n",
       "        vertical-align: middle;\n",
       "    }\n",
       "\n",
       "    .dataframe tbody tr th {\n",
       "        vertical-align: top;\n",
       "    }\n",
       "\n",
       "    .dataframe thead th {\n",
       "        text-align: right;\n",
       "    }\n",
       "</style>\n",
       "<table border=\"1\" class=\"dataframe\">\n",
       "  <thead>\n",
       "    <tr style=\"text-align: right;\">\n",
       "      <th></th>\n",
       "      <th>satisfaction_level</th>\n",
       "      <th>last_evaluation</th>\n",
       "      <th>number_project</th>\n",
       "      <th>average_montly_hours</th>\n",
       "      <th>time_spend_company</th>\n",
       "      <th>Work_accident</th>\n",
       "      <th>promotion_last_5years</th>\n",
       "      <th>department</th>\n",
       "      <th>salary</th>\n",
       "    </tr>\n",
       "  </thead>\n",
       "  <tbody>\n",
       "    <tr>\n",
       "      <th>2976</th>\n",
       "      <td>-1.427116</td>\n",
       "      <td>-0.597837</td>\n",
       "      <td>1.609438</td>\n",
       "      <td>5.337538</td>\n",
       "      <td>1.609438</td>\n",
       "      <td>0</td>\n",
       "      <td>0</td>\n",
       "      <td>RandD</td>\n",
       "      <td>low</td>\n",
       "    </tr>\n",
       "    <tr>\n",
       "      <th>11307</th>\n",
       "      <td>-0.328504</td>\n",
       "      <td>-0.478036</td>\n",
       "      <td>1.098612</td>\n",
       "      <td>5.493061</td>\n",
       "      <td>0.693147</td>\n",
       "      <td>1</td>\n",
       "      <td>0</td>\n",
       "      <td>hr</td>\n",
       "      <td>low</td>\n",
       "    </tr>\n",
       "    <tr>\n",
       "      <th>7699</th>\n",
       "      <td>-0.713350</td>\n",
       "      <td>-0.223144</td>\n",
       "      <td>1.098612</td>\n",
       "      <td>5.472271</td>\n",
       "      <td>1.386294</td>\n",
       "      <td>0</td>\n",
       "      <td>0</td>\n",
       "      <td>product_mng</td>\n",
       "      <td>low</td>\n",
       "    </tr>\n",
       "    <tr>\n",
       "      <th>12260</th>\n",
       "      <td>-0.776529</td>\n",
       "      <td>-0.776529</td>\n",
       "      <td>0.693147</td>\n",
       "      <td>5.036953</td>\n",
       "      <td>1.098612</td>\n",
       "      <td>0</td>\n",
       "      <td>0</td>\n",
       "      <td>accounting</td>\n",
       "      <td>medium</td>\n",
       "    </tr>\n",
       "    <tr>\n",
       "      <th>16</th>\n",
       "      <td>-0.798508</td>\n",
       "      <td>-0.755023</td>\n",
       "      <td>0.693147</td>\n",
       "      <td>5.075174</td>\n",
       "      <td>1.098612</td>\n",
       "      <td>0</td>\n",
       "      <td>0</td>\n",
       "      <td>sales</td>\n",
       "      <td>low</td>\n",
       "    </tr>\n",
       "  </tbody>\n",
       "</table>\n",
       "</div>"
      ],
      "text/plain": [
       "       satisfaction_level  last_evaluation  number_project  \\\n",
       "2976            -1.427116        -0.597837        1.609438   \n",
       "11307           -0.328504        -0.478036        1.098612   \n",
       "7699            -0.713350        -0.223144        1.098612   \n",
       "12260           -0.776529        -0.776529        0.693147   \n",
       "16              -0.798508        -0.755023        0.693147   \n",
       "\n",
       "       average_montly_hours  time_spend_company  Work_accident  \\\n",
       "2976               5.337538            1.609438              0   \n",
       "11307              5.493061            0.693147              1   \n",
       "7699               5.472271            1.386294              0   \n",
       "12260              5.036953            1.098612              0   \n",
       "16                 5.075174            1.098612              0   \n",
       "\n",
       "       promotion_last_5years   department  salary  \n",
       "2976                       0        RandD     low  \n",
       "11307                      0           hr     low  \n",
       "7699                       0  product_mng     low  \n",
       "12260                      0   accounting  medium  \n",
       "16                         0        sales     low  "
      ]
     },
     "execution_count": 78,
     "metadata": {},
     "output_type": "execute_result"
    }
   ],
   "source": [
    "train_input.head()"
   ]
  },
  {
   "cell_type": "markdown",
   "id": "64d83fce",
   "metadata": {},
   "source": [
    "### Identifying numerical and Categorical columns"
   ]
  },
  {
   "cell_type": "code",
   "execution_count": 79,
   "id": "3a45cb15",
   "metadata": {},
   "outputs": [],
   "source": [
    "numeric_cols = train_input.select_dtypes(include = np.number).columns.tolist()\n",
    "cat_cols = train_input.select_dtypes('object').columns.tolist()"
   ]
  },
  {
   "cell_type": "code",
   "execution_count": 80,
   "id": "2c776c41",
   "metadata": {},
   "outputs": [
    {
     "data": {
      "text/plain": [
       "['satisfaction_level',\n",
       " 'last_evaluation',\n",
       " 'number_project',\n",
       " 'average_montly_hours',\n",
       " 'time_spend_company',\n",
       " 'Work_accident',\n",
       " 'promotion_last_5years']"
      ]
     },
     "execution_count": 80,
     "metadata": {},
     "output_type": "execute_result"
    }
   ],
   "source": [
    "numeric_cols"
   ]
  },
  {
   "cell_type": "code",
   "execution_count": 81,
   "id": "0c54466f",
   "metadata": {},
   "outputs": [
    {
     "data": {
      "text/plain": [
       "['department', 'salary']"
      ]
     },
     "execution_count": 81,
     "metadata": {},
     "output_type": "execute_result"
    }
   ],
   "source": [
    "cat_cols"
   ]
  },
  {
   "cell_type": "markdown",
   "id": "adff5fd9",
   "metadata": {},
   "source": [
    "### Imputation of numerical columns\n",
    "##### NOTE:\n",
    "From EDA, dataset had no NaN values in both the numerical and categorical column. Thus no need for imputation."
   ]
  },
  {
   "cell_type": "code",
   "execution_count": 82,
   "id": "5da32c48",
   "metadata": {},
   "outputs": [],
   "source": [
    "import warnings\n",
    "warnings.filterwarnings('ignore')\n",
    "#Importing and building a simple imputer\n",
    "from sklearn.impute import SimpleImputer\n",
    "\n",
    "# Building the imputer\n",
    "imputer = SimpleImputer(strategy = 'mean')\n",
    "\n",
    "#Fiting the imputer into the entire dataset\n",
    "imputer.fit(HR_df[numeric_cols])\n",
    "\n",
    "#imputing missing values in the numeric columns of each datasets\n",
    "train_input[numeric_cols] = imputer.transform(train_input[numeric_cols])\n",
    "val_input[numeric_cols] = imputer.transform(val_input[numeric_cols])\n",
    "test_input[numeric_cols] = imputer.transform(test_input[numeric_cols])"
   ]
  },
  {
   "cell_type": "code",
   "execution_count": 83,
   "id": "f6e9de44",
   "metadata": {},
   "outputs": [],
   "source": [
    "?imputer"
   ]
  },
  {
   "cell_type": "markdown",
   "id": "c90d2fa7",
   "metadata": {},
   "source": [
    "### Scaling of numeric columns using the MinMax Scaler\n",
    "- This is to ensure that non of the features has a disproportionate impact on the model loss more than the other."
   ]
  },
  {
   "cell_type": "code",
   "execution_count": 84,
   "id": "28e6a18b",
   "metadata": {},
   "outputs": [],
   "source": [
    "from sklearn.preprocessing import MinMaxScaler\n",
    "\n",
    "#Building the scaler\n",
    "scaler = MinMaxScaler()\n",
    "\n",
    "#fitting the scaler into the HR_df\n",
    "scaler.fit(HR_df[numeric_cols])\n",
    "\n",
    "#Scaling of numeric columns using the tranform method\n",
    "train_input[numeric_cols] = scaler.transform(train_input[numeric_cols])\n",
    "val_input[numeric_cols] = scaler.transform(val_input[numeric_cols])\n",
    "test_input[numeric_cols] = scaler.transform(test_input[numeric_cols])\n"
   ]
  },
  {
   "cell_type": "code",
   "execution_count": 85,
   "id": "cbdae52c",
   "metadata": {},
   "outputs": [],
   "source": [
    "?scaler"
   ]
  },
  {
   "cell_type": "code",
   "execution_count": 86,
   "id": "583f9e50",
   "metadata": {},
   "outputs": [
    {
     "data": {
      "text/html": [
       "<div>\n",
       "<style scoped>\n",
       "    .dataframe tbody tr th:only-of-type {\n",
       "        vertical-align: middle;\n",
       "    }\n",
       "\n",
       "    .dataframe tbody tr th {\n",
       "        vertical-align: top;\n",
       "    }\n",
       "\n",
       "    .dataframe thead th {\n",
       "        text-align: right;\n",
       "    }\n",
       "</style>\n",
       "<table border=\"1\" class=\"dataframe\">\n",
       "  <thead>\n",
       "    <tr style=\"text-align: right;\">\n",
       "      <th></th>\n",
       "      <th>satisfaction_level</th>\n",
       "      <th>last_evaluation</th>\n",
       "      <th>number_project</th>\n",
       "      <th>average_montly_hours</th>\n",
       "      <th>time_spend_company</th>\n",
       "      <th>Work_accident</th>\n",
       "      <th>promotion_last_5years</th>\n",
       "    </tr>\n",
       "  </thead>\n",
       "  <tbody>\n",
       "    <tr>\n",
       "      <th>2976</th>\n",
       "      <td>0.407330</td>\n",
       "      <td>0.414833</td>\n",
       "      <td>0.731416</td>\n",
       "      <td>0.659592</td>\n",
       "      <td>0.569323</td>\n",
       "      <td>0.0</td>\n",
       "      <td>0.0</td>\n",
       "    </tr>\n",
       "    <tr>\n",
       "      <th>11307</th>\n",
       "      <td>0.863575</td>\n",
       "      <td>0.532095</td>\n",
       "      <td>0.323657</td>\n",
       "      <td>0.792266</td>\n",
       "      <td>0.000000</td>\n",
       "      <td>1.0</td>\n",
       "      <td>0.0</td>\n",
       "    </tr>\n",
       "    <tr>\n",
       "      <th>7699</th>\n",
       "      <td>0.703752</td>\n",
       "      <td>0.781585</td>\n",
       "      <td>0.323657</td>\n",
       "      <td>0.774530</td>\n",
       "      <td>0.430677</td>\n",
       "      <td>0.0</td>\n",
       "      <td>0.0</td>\n",
       "    </tr>\n",
       "    <tr>\n",
       "      <th>12260</th>\n",
       "      <td>0.677514</td>\n",
       "      <td>0.239928</td>\n",
       "      <td>0.000000</td>\n",
       "      <td>0.403169</td>\n",
       "      <td>0.251930</td>\n",
       "      <td>0.0</td>\n",
       "      <td>0.0</td>\n",
       "    </tr>\n",
       "    <tr>\n",
       "      <th>16</th>\n",
       "      <td>0.668386</td>\n",
       "      <td>0.260978</td>\n",
       "      <td>0.000000</td>\n",
       "      <td>0.435775</td>\n",
       "      <td>0.251930</td>\n",
       "      <td>0.0</td>\n",
       "      <td>0.0</td>\n",
       "    </tr>\n",
       "  </tbody>\n",
       "</table>\n",
       "</div>"
      ],
      "text/plain": [
       "       satisfaction_level  last_evaluation  number_project  \\\n",
       "2976             0.407330         0.414833        0.731416   \n",
       "11307            0.863575         0.532095        0.323657   \n",
       "7699             0.703752         0.781585        0.323657   \n",
       "12260            0.677514         0.239928        0.000000   \n",
       "16               0.668386         0.260978        0.000000   \n",
       "\n",
       "       average_montly_hours  time_spend_company  Work_accident  \\\n",
       "2976               0.659592            0.569323            0.0   \n",
       "11307              0.792266            0.000000            1.0   \n",
       "7699               0.774530            0.430677            0.0   \n",
       "12260              0.403169            0.251930            0.0   \n",
       "16                 0.435775            0.251930            0.0   \n",
       "\n",
       "       promotion_last_5years  \n",
       "2976                     0.0  \n",
       "11307                    0.0  \n",
       "7699                     0.0  \n",
       "12260                    0.0  \n",
       "16                       0.0  "
      ]
     },
     "execution_count": 86,
     "metadata": {},
     "output_type": "execute_result"
    }
   ],
   "source": [
    "train_input[numeric_cols].head()"
   ]
  },
  {
   "cell_type": "markdown",
   "id": "b8e7afe0",
   "metadata": {},
   "source": [
    "## OneHot encoding of Categorical columns\n",
    "- This techniques set each unique entry of the categorical column as a column on its own.\n",
    "- Each entry is encoded as a series of 0's and 1's."
   ]
  },
  {
   "cell_type": "code",
   "execution_count": 87,
   "id": "f8ecf045",
   "metadata": {},
   "outputs": [
    {
     "name": "stdout",
     "output_type": "stream",
     "text": [
      "[array(['IT', 'RandD', 'accounting', 'hr', 'management', 'marketing',\n",
      "       'product_mng', 'sales', 'support', 'technical'], dtype=object), array(['high', 'low', 'medium'], dtype=object)]\n",
      "['department_IT', 'department_RandD', 'department_accounting', 'department_hr', 'department_management', 'department_marketing', 'department_product_mng', 'department_sales', 'department_support', 'department_technical', 'salary_high', 'salary_low', 'salary_medium']\n"
     ]
    }
   ],
   "source": [
    "from sklearn.preprocessing import OneHotEncoder\n",
    "\n",
    "#Building the encoder\n",
    "encoder = OneHotEncoder(sparse = False, handle_unknown = 'ignore')\n",
    "\n",
    "#Fitting the encoder into the dataset\n",
    "encoder.fit(HR_df[cat_cols])\n",
    "\n",
    "#Getting the uniques categories per column\n",
    "print(encoder.categories_)\n",
    "\n",
    "#Geerating the names for the various categories\n",
    "encoded_cols = list(encoder.get_feature_names(cat_cols))\n",
    "print(encoded_cols)\n",
    "\n",
    "# encoding the categorical columns\n",
    "train_input[encoded_cols] = encoder.transform(train_input[cat_cols])\n",
    "val_input[encoded_cols] = encoder.transform(val_input[cat_cols])\n",
    "test_input[encoded_cols] = encoder.transform(test_input[cat_cols])\n"
   ]
  },
  {
   "cell_type": "code",
   "execution_count": 88,
   "id": "4d97f7a1",
   "metadata": {},
   "outputs": [],
   "source": [
    "?encoder"
   ]
  },
  {
   "cell_type": "markdown",
   "id": "a61a2269",
   "metadata": {},
   "source": [
    "#### Final Processed data"
   ]
  },
  {
   "cell_type": "code",
   "execution_count": 89,
   "id": "3c8cc5a2",
   "metadata": {},
   "outputs": [
    {
     "data": {
      "text/html": [
       "<div>\n",
       "<style scoped>\n",
       "    .dataframe tbody tr th:only-of-type {\n",
       "        vertical-align: middle;\n",
       "    }\n",
       "\n",
       "    .dataframe tbody tr th {\n",
       "        vertical-align: top;\n",
       "    }\n",
       "\n",
       "    .dataframe thead th {\n",
       "        text-align: right;\n",
       "    }\n",
       "</style>\n",
       "<table border=\"1\" class=\"dataframe\">\n",
       "  <thead>\n",
       "    <tr style=\"text-align: right;\">\n",
       "      <th></th>\n",
       "      <th>satisfaction_level</th>\n",
       "      <th>last_evaluation</th>\n",
       "      <th>number_project</th>\n",
       "      <th>average_montly_hours</th>\n",
       "      <th>time_spend_company</th>\n",
       "      <th>Work_accident</th>\n",
       "      <th>promotion_last_5years</th>\n",
       "      <th>department</th>\n",
       "      <th>salary</th>\n",
       "      <th>department_IT</th>\n",
       "      <th>...</th>\n",
       "      <th>department_hr</th>\n",
       "      <th>department_management</th>\n",
       "      <th>department_marketing</th>\n",
       "      <th>department_product_mng</th>\n",
       "      <th>department_sales</th>\n",
       "      <th>department_support</th>\n",
       "      <th>department_technical</th>\n",
       "      <th>salary_high</th>\n",
       "      <th>salary_low</th>\n",
       "      <th>salary_medium</th>\n",
       "    </tr>\n",
       "  </thead>\n",
       "  <tbody>\n",
       "    <tr>\n",
       "      <th>2976</th>\n",
       "      <td>0.407330</td>\n",
       "      <td>0.414833</td>\n",
       "      <td>0.731416</td>\n",
       "      <td>0.659592</td>\n",
       "      <td>0.569323</td>\n",
       "      <td>0.0</td>\n",
       "      <td>0.0</td>\n",
       "      <td>RandD</td>\n",
       "      <td>low</td>\n",
       "      <td>0.0</td>\n",
       "      <td>...</td>\n",
       "      <td>0.0</td>\n",
       "      <td>0.0</td>\n",
       "      <td>0.0</td>\n",
       "      <td>0.0</td>\n",
       "      <td>0.0</td>\n",
       "      <td>0.0</td>\n",
       "      <td>0.0</td>\n",
       "      <td>0.0</td>\n",
       "      <td>1.0</td>\n",
       "      <td>0.0</td>\n",
       "    </tr>\n",
       "    <tr>\n",
       "      <th>11307</th>\n",
       "      <td>0.863575</td>\n",
       "      <td>0.532095</td>\n",
       "      <td>0.323657</td>\n",
       "      <td>0.792266</td>\n",
       "      <td>0.000000</td>\n",
       "      <td>1.0</td>\n",
       "      <td>0.0</td>\n",
       "      <td>hr</td>\n",
       "      <td>low</td>\n",
       "      <td>0.0</td>\n",
       "      <td>...</td>\n",
       "      <td>1.0</td>\n",
       "      <td>0.0</td>\n",
       "      <td>0.0</td>\n",
       "      <td>0.0</td>\n",
       "      <td>0.0</td>\n",
       "      <td>0.0</td>\n",
       "      <td>0.0</td>\n",
       "      <td>0.0</td>\n",
       "      <td>1.0</td>\n",
       "      <td>0.0</td>\n",
       "    </tr>\n",
       "    <tr>\n",
       "      <th>7699</th>\n",
       "      <td>0.703752</td>\n",
       "      <td>0.781585</td>\n",
       "      <td>0.323657</td>\n",
       "      <td>0.774530</td>\n",
       "      <td>0.430677</td>\n",
       "      <td>0.0</td>\n",
       "      <td>0.0</td>\n",
       "      <td>product_mng</td>\n",
       "      <td>low</td>\n",
       "      <td>0.0</td>\n",
       "      <td>...</td>\n",
       "      <td>0.0</td>\n",
       "      <td>0.0</td>\n",
       "      <td>0.0</td>\n",
       "      <td>1.0</td>\n",
       "      <td>0.0</td>\n",
       "      <td>0.0</td>\n",
       "      <td>0.0</td>\n",
       "      <td>0.0</td>\n",
       "      <td>1.0</td>\n",
       "      <td>0.0</td>\n",
       "    </tr>\n",
       "    <tr>\n",
       "      <th>12260</th>\n",
       "      <td>0.677514</td>\n",
       "      <td>0.239928</td>\n",
       "      <td>0.000000</td>\n",
       "      <td>0.403169</td>\n",
       "      <td>0.251930</td>\n",
       "      <td>0.0</td>\n",
       "      <td>0.0</td>\n",
       "      <td>accounting</td>\n",
       "      <td>medium</td>\n",
       "      <td>0.0</td>\n",
       "      <td>...</td>\n",
       "      <td>0.0</td>\n",
       "      <td>0.0</td>\n",
       "      <td>0.0</td>\n",
       "      <td>0.0</td>\n",
       "      <td>0.0</td>\n",
       "      <td>0.0</td>\n",
       "      <td>0.0</td>\n",
       "      <td>0.0</td>\n",
       "      <td>0.0</td>\n",
       "      <td>1.0</td>\n",
       "    </tr>\n",
       "    <tr>\n",
       "      <th>16</th>\n",
       "      <td>0.668386</td>\n",
       "      <td>0.260978</td>\n",
       "      <td>0.000000</td>\n",
       "      <td>0.435775</td>\n",
       "      <td>0.251930</td>\n",
       "      <td>0.0</td>\n",
       "      <td>0.0</td>\n",
       "      <td>sales</td>\n",
       "      <td>low</td>\n",
       "      <td>0.0</td>\n",
       "      <td>...</td>\n",
       "      <td>0.0</td>\n",
       "      <td>0.0</td>\n",
       "      <td>0.0</td>\n",
       "      <td>0.0</td>\n",
       "      <td>1.0</td>\n",
       "      <td>0.0</td>\n",
       "      <td>0.0</td>\n",
       "      <td>0.0</td>\n",
       "      <td>1.0</td>\n",
       "      <td>0.0</td>\n",
       "    </tr>\n",
       "  </tbody>\n",
       "</table>\n",
       "<p>5 rows × 22 columns</p>\n",
       "</div>"
      ],
      "text/plain": [
       "       satisfaction_level  last_evaluation  number_project  \\\n",
       "2976             0.407330         0.414833        0.731416   \n",
       "11307            0.863575         0.532095        0.323657   \n",
       "7699             0.703752         0.781585        0.323657   \n",
       "12260            0.677514         0.239928        0.000000   \n",
       "16               0.668386         0.260978        0.000000   \n",
       "\n",
       "       average_montly_hours  time_spend_company  Work_accident  \\\n",
       "2976               0.659592            0.569323            0.0   \n",
       "11307              0.792266            0.000000            1.0   \n",
       "7699               0.774530            0.430677            0.0   \n",
       "12260              0.403169            0.251930            0.0   \n",
       "16                 0.435775            0.251930            0.0   \n",
       "\n",
       "       promotion_last_5years   department  salary  department_IT  ...  \\\n",
       "2976                     0.0        RandD     low            0.0  ...   \n",
       "11307                    0.0           hr     low            0.0  ...   \n",
       "7699                     0.0  product_mng     low            0.0  ...   \n",
       "12260                    0.0   accounting  medium            0.0  ...   \n",
       "16                       0.0        sales     low            0.0  ...   \n",
       "\n",
       "       department_hr  department_management  department_marketing  \\\n",
       "2976             0.0                    0.0                   0.0   \n",
       "11307            1.0                    0.0                   0.0   \n",
       "7699             0.0                    0.0                   0.0   \n",
       "12260            0.0                    0.0                   0.0   \n",
       "16               0.0                    0.0                   0.0   \n",
       "\n",
       "       department_product_mng  department_sales  department_support  \\\n",
       "2976                      0.0               0.0                 0.0   \n",
       "11307                     0.0               0.0                 0.0   \n",
       "7699                      1.0               0.0                 0.0   \n",
       "12260                     0.0               0.0                 0.0   \n",
       "16                        0.0               1.0                 0.0   \n",
       "\n",
       "       department_technical  salary_high  salary_low  salary_medium  \n",
       "2976                    0.0          0.0         1.0            0.0  \n",
       "11307                   0.0          0.0         1.0            0.0  \n",
       "7699                    0.0          0.0         1.0            0.0  \n",
       "12260                   0.0          0.0         0.0            1.0  \n",
       "16                      0.0          0.0         1.0            0.0  \n",
       "\n",
       "[5 rows x 22 columns]"
      ]
     },
     "execution_count": 89,
     "metadata": {},
     "output_type": "execute_result"
    }
   ],
   "source": [
    "#train dataset\n",
    "train_input.head()"
   ]
  },
  {
   "cell_type": "code",
   "execution_count": 90,
   "id": "a49bbb64",
   "metadata": {},
   "outputs": [
    {
     "data": {
      "text/html": [
       "<div>\n",
       "<style scoped>\n",
       "    .dataframe tbody tr th:only-of-type {\n",
       "        vertical-align: middle;\n",
       "    }\n",
       "\n",
       "    .dataframe tbody tr th {\n",
       "        vertical-align: top;\n",
       "    }\n",
       "\n",
       "    .dataframe thead th {\n",
       "        text-align: right;\n",
       "    }\n",
       "</style>\n",
       "<table border=\"1\" class=\"dataframe\">\n",
       "  <thead>\n",
       "    <tr style=\"text-align: right;\">\n",
       "      <th></th>\n",
       "      <th>satisfaction_level</th>\n",
       "      <th>last_evaluation</th>\n",
       "      <th>number_project</th>\n",
       "      <th>average_montly_hours</th>\n",
       "      <th>time_spend_company</th>\n",
       "      <th>Work_accident</th>\n",
       "      <th>promotion_last_5years</th>\n",
       "      <th>department</th>\n",
       "      <th>salary</th>\n",
       "      <th>department_IT</th>\n",
       "      <th>...</th>\n",
       "      <th>department_hr</th>\n",
       "      <th>department_management</th>\n",
       "      <th>department_marketing</th>\n",
       "      <th>department_product_mng</th>\n",
       "      <th>department_sales</th>\n",
       "      <th>department_support</th>\n",
       "      <th>department_technical</th>\n",
       "      <th>salary_high</th>\n",
       "      <th>salary_low</th>\n",
       "      <th>salary_medium</th>\n",
       "    </tr>\n",
       "  </thead>\n",
       "  <tbody>\n",
       "    <tr>\n",
       "      <th>3002</th>\n",
       "      <td>0.649506</td>\n",
       "      <td>0.547756</td>\n",
       "      <td>0.323657</td>\n",
       "      <td>0.414177</td>\n",
       "      <td>0.251930</td>\n",
       "      <td>0.0</td>\n",
       "      <td>0.0</td>\n",
       "      <td>sales</td>\n",
       "      <td>medium</td>\n",
       "      <td>0.0</td>\n",
       "      <td>...</td>\n",
       "      <td>0.0</td>\n",
       "      <td>0.0</td>\n",
       "      <td>0.0</td>\n",
       "      <td>0.0</td>\n",
       "      <td>1.0</td>\n",
       "      <td>0.0</td>\n",
       "      <td>0.0</td>\n",
       "      <td>0.0</td>\n",
       "      <td>0.0</td>\n",
       "      <td>1.0</td>\n",
       "    </tr>\n",
       "    <tr>\n",
       "      <th>6653</th>\n",
       "      <td>0.974304</td>\n",
       "      <td>0.593290</td>\n",
       "      <td>0.553295</td>\n",
       "      <td>0.745362</td>\n",
       "      <td>0.000000</td>\n",
       "      <td>0.0</td>\n",
       "      <td>0.0</td>\n",
       "      <td>sales</td>\n",
       "      <td>low</td>\n",
       "      <td>0.0</td>\n",
       "      <td>...</td>\n",
       "      <td>0.0</td>\n",
       "      <td>0.0</td>\n",
       "      <td>0.0</td>\n",
       "      <td>0.0</td>\n",
       "      <td>1.0</td>\n",
       "      <td>0.0</td>\n",
       "      <td>0.0</td>\n",
       "      <td>0.0</td>\n",
       "      <td>1.0</td>\n",
       "      <td>0.0</td>\n",
       "    </tr>\n",
       "    <tr>\n",
       "      <th>7948</th>\n",
       "      <td>0.891457</td>\n",
       "      <td>0.281585</td>\n",
       "      <td>0.323657</td>\n",
       "      <td>0.643027</td>\n",
       "      <td>0.682606</td>\n",
       "      <td>0.0</td>\n",
       "      <td>0.0</td>\n",
       "      <td>sales</td>\n",
       "      <td>high</td>\n",
       "      <td>0.0</td>\n",
       "      <td>...</td>\n",
       "      <td>0.0</td>\n",
       "      <td>0.0</td>\n",
       "      <td>0.0</td>\n",
       "      <td>0.0</td>\n",
       "      <td>1.0</td>\n",
       "      <td>0.0</td>\n",
       "      <td>0.0</td>\n",
       "      <td>1.0</td>\n",
       "      <td>0.0</td>\n",
       "      <td>0.0</td>\n",
       "    </tr>\n",
       "    <tr>\n",
       "      <th>14730</th>\n",
       "      <td>0.608958</td>\n",
       "      <td>0.340925</td>\n",
       "      <td>0.000000</td>\n",
       "      <td>0.252054</td>\n",
       "      <td>0.251930</td>\n",
       "      <td>0.0</td>\n",
       "      <td>0.0</td>\n",
       "      <td>IT</td>\n",
       "      <td>low</td>\n",
       "      <td>1.0</td>\n",
       "      <td>...</td>\n",
       "      <td>0.0</td>\n",
       "      <td>0.0</td>\n",
       "      <td>0.0</td>\n",
       "      <td>0.0</td>\n",
       "      <td>0.0</td>\n",
       "      <td>0.0</td>\n",
       "      <td>0.0</td>\n",
       "      <td>0.0</td>\n",
       "      <td>1.0</td>\n",
       "      <td>0.0</td>\n",
       "    </tr>\n",
       "    <tr>\n",
       "      <th>428</th>\n",
       "      <td>0.587095</td>\n",
       "      <td>0.218415</td>\n",
       "      <td>0.000000</td>\n",
       "      <td>0.231981</td>\n",
       "      <td>0.251930</td>\n",
       "      <td>0.0</td>\n",
       "      <td>0.0</td>\n",
       "      <td>support</td>\n",
       "      <td>medium</td>\n",
       "      <td>0.0</td>\n",
       "      <td>...</td>\n",
       "      <td>0.0</td>\n",
       "      <td>0.0</td>\n",
       "      <td>0.0</td>\n",
       "      <td>0.0</td>\n",
       "      <td>0.0</td>\n",
       "      <td>1.0</td>\n",
       "      <td>0.0</td>\n",
       "      <td>0.0</td>\n",
       "      <td>0.0</td>\n",
       "      <td>1.0</td>\n",
       "    </tr>\n",
       "  </tbody>\n",
       "</table>\n",
       "<p>5 rows × 22 columns</p>\n",
       "</div>"
      ],
      "text/plain": [
       "       satisfaction_level  last_evaluation  number_project  \\\n",
       "3002             0.649506         0.547756        0.323657   \n",
       "6653             0.974304         0.593290        0.553295   \n",
       "7948             0.891457         0.281585        0.323657   \n",
       "14730            0.608958         0.340925        0.000000   \n",
       "428              0.587095         0.218415        0.000000   \n",
       "\n",
       "       average_montly_hours  time_spend_company  Work_accident  \\\n",
       "3002               0.414177            0.251930            0.0   \n",
       "6653               0.745362            0.000000            0.0   \n",
       "7948               0.643027            0.682606            0.0   \n",
       "14730              0.252054            0.251930            0.0   \n",
       "428                0.231981            0.251930            0.0   \n",
       "\n",
       "       promotion_last_5years department  salary  department_IT  ...  \\\n",
       "3002                     0.0      sales  medium            0.0  ...   \n",
       "6653                     0.0      sales     low            0.0  ...   \n",
       "7948                     0.0      sales    high            0.0  ...   \n",
       "14730                    0.0         IT     low            1.0  ...   \n",
       "428                      0.0    support  medium            0.0  ...   \n",
       "\n",
       "       department_hr  department_management  department_marketing  \\\n",
       "3002             0.0                    0.0                   0.0   \n",
       "6653             0.0                    0.0                   0.0   \n",
       "7948             0.0                    0.0                   0.0   \n",
       "14730            0.0                    0.0                   0.0   \n",
       "428              0.0                    0.0                   0.0   \n",
       "\n",
       "       department_product_mng  department_sales  department_support  \\\n",
       "3002                      0.0               1.0                 0.0   \n",
       "6653                      0.0               1.0                 0.0   \n",
       "7948                      0.0               1.0                 0.0   \n",
       "14730                     0.0               0.0                 0.0   \n",
       "428                       0.0               0.0                 1.0   \n",
       "\n",
       "       department_technical  salary_high  salary_low  salary_medium  \n",
       "3002                    0.0          0.0         0.0            1.0  \n",
       "6653                    0.0          0.0         1.0            0.0  \n",
       "7948                    0.0          1.0         0.0            0.0  \n",
       "14730                   0.0          0.0         1.0            0.0  \n",
       "428                     0.0          0.0         0.0            1.0  \n",
       "\n",
       "[5 rows x 22 columns]"
      ]
     },
     "execution_count": 90,
     "metadata": {},
     "output_type": "execute_result"
    }
   ],
   "source": [
    "#Validation dataset\n",
    "val_input.head()"
   ]
  },
  {
   "cell_type": "code",
   "execution_count": 91,
   "id": "e4a53ad2",
   "metadata": {},
   "outputs": [
    {
     "data": {
      "text/html": [
       "<div>\n",
       "<style scoped>\n",
       "    .dataframe tbody tr th:only-of-type {\n",
       "        vertical-align: middle;\n",
       "    }\n",
       "\n",
       "    .dataframe tbody tr th {\n",
       "        vertical-align: top;\n",
       "    }\n",
       "\n",
       "    .dataframe thead th {\n",
       "        text-align: right;\n",
       "    }\n",
       "</style>\n",
       "<table border=\"1\" class=\"dataframe\">\n",
       "  <thead>\n",
       "    <tr style=\"text-align: right;\">\n",
       "      <th></th>\n",
       "      <th>satisfaction_level</th>\n",
       "      <th>last_evaluation</th>\n",
       "      <th>number_project</th>\n",
       "      <th>average_montly_hours</th>\n",
       "      <th>time_spend_company</th>\n",
       "      <th>Work_accident</th>\n",
       "      <th>promotion_last_5years</th>\n",
       "      <th>department</th>\n",
       "      <th>salary</th>\n",
       "      <th>department_IT</th>\n",
       "      <th>...</th>\n",
       "      <th>department_hr</th>\n",
       "      <th>department_management</th>\n",
       "      <th>department_marketing</th>\n",
       "      <th>department_product_mng</th>\n",
       "      <th>department_sales</th>\n",
       "      <th>department_support</th>\n",
       "      <th>department_technical</th>\n",
       "      <th>salary_high</th>\n",
       "      <th>salary_low</th>\n",
       "      <th>salary_medium</th>\n",
       "    </tr>\n",
       "  </thead>\n",
       "  <tbody>\n",
       "    <tr>\n",
       "      <th>6723</th>\n",
       "      <td>0.821099</td>\n",
       "      <td>0.960043</td>\n",
       "      <td>0.731416</td>\n",
       "      <td>0.730395</td>\n",
       "      <td>0.00000</td>\n",
       "      <td>1.0</td>\n",
       "      <td>0.0</td>\n",
       "      <td>marketing</td>\n",
       "      <td>medium</td>\n",
       "      <td>0.0</td>\n",
       "      <td>...</td>\n",
       "      <td>0.0</td>\n",
       "      <td>0.0</td>\n",
       "      <td>1.0</td>\n",
       "      <td>0.0</td>\n",
       "      <td>0.0</td>\n",
       "      <td>0.0</td>\n",
       "      <td>0.0</td>\n",
       "      <td>0.0</td>\n",
       "      <td>0.0</td>\n",
       "      <td>1.0</td>\n",
       "    </tr>\n",
       "    <tr>\n",
       "      <th>6473</th>\n",
       "      <td>0.946912</td>\n",
       "      <td>0.781585</td>\n",
       "      <td>0.323657</td>\n",
       "      <td>0.467180</td>\n",
       "      <td>0.00000</td>\n",
       "      <td>0.0</td>\n",
       "      <td>0.0</td>\n",
       "      <td>IT</td>\n",
       "      <td>low</td>\n",
       "      <td>1.0</td>\n",
       "      <td>...</td>\n",
       "      <td>0.0</td>\n",
       "      <td>0.0</td>\n",
       "      <td>0.0</td>\n",
       "      <td>0.0</td>\n",
       "      <td>0.0</td>\n",
       "      <td>0.0</td>\n",
       "      <td>0.0</td>\n",
       "      <td>0.0</td>\n",
       "      <td>1.0</td>\n",
       "      <td>0.0</td>\n",
       "    </tr>\n",
       "    <tr>\n",
       "      <th>4679</th>\n",
       "      <td>0.845900</td>\n",
       "      <td>0.980225</td>\n",
       "      <td>0.323657</td>\n",
       "      <td>0.683852</td>\n",
       "      <td>0.00000</td>\n",
       "      <td>0.0</td>\n",
       "      <td>0.0</td>\n",
       "      <td>sales</td>\n",
       "      <td>low</td>\n",
       "      <td>0.0</td>\n",
       "      <td>...</td>\n",
       "      <td>0.0</td>\n",
       "      <td>0.0</td>\n",
       "      <td>0.0</td>\n",
       "      <td>0.0</td>\n",
       "      <td>1.0</td>\n",
       "      <td>0.0</td>\n",
       "      <td>0.0</td>\n",
       "      <td>0.0</td>\n",
       "      <td>1.0</td>\n",
       "      <td>0.0</td>\n",
       "    </tr>\n",
       "    <tr>\n",
       "      <th>862</th>\n",
       "      <td>0.629727</td>\n",
       "      <td>0.260978</td>\n",
       "      <td>0.000000</td>\n",
       "      <td>0.403169</td>\n",
       "      <td>0.25193</td>\n",
       "      <td>0.0</td>\n",
       "      <td>0.0</td>\n",
       "      <td>sales</td>\n",
       "      <td>low</td>\n",
       "      <td>0.0</td>\n",
       "      <td>...</td>\n",
       "      <td>0.0</td>\n",
       "      <td>0.0</td>\n",
       "      <td>0.0</td>\n",
       "      <td>0.0</td>\n",
       "      <td>1.0</td>\n",
       "      <td>0.0</td>\n",
       "      <td>0.0</td>\n",
       "      <td>0.0</td>\n",
       "      <td>1.0</td>\n",
       "      <td>0.0</td>\n",
       "    </tr>\n",
       "    <tr>\n",
       "      <th>7286</th>\n",
       "      <td>0.942166</td>\n",
       "      <td>0.731379</td>\n",
       "      <td>0.731416</td>\n",
       "      <td>0.830034</td>\n",
       "      <td>0.00000</td>\n",
       "      <td>1.0</td>\n",
       "      <td>0.0</td>\n",
       "      <td>hr</td>\n",
       "      <td>low</td>\n",
       "      <td>0.0</td>\n",
       "      <td>...</td>\n",
       "      <td>1.0</td>\n",
       "      <td>0.0</td>\n",
       "      <td>0.0</td>\n",
       "      <td>0.0</td>\n",
       "      <td>0.0</td>\n",
       "      <td>0.0</td>\n",
       "      <td>0.0</td>\n",
       "      <td>0.0</td>\n",
       "      <td>1.0</td>\n",
       "      <td>0.0</td>\n",
       "    </tr>\n",
       "  </tbody>\n",
       "</table>\n",
       "<p>5 rows × 22 columns</p>\n",
       "</div>"
      ],
      "text/plain": [
       "      satisfaction_level  last_evaluation  number_project  \\\n",
       "6723            0.821099         0.960043        0.731416   \n",
       "6473            0.946912         0.781585        0.323657   \n",
       "4679            0.845900         0.980225        0.323657   \n",
       "862             0.629727         0.260978        0.000000   \n",
       "7286            0.942166         0.731379        0.731416   \n",
       "\n",
       "      average_montly_hours  time_spend_company  Work_accident  \\\n",
       "6723              0.730395             0.00000            1.0   \n",
       "6473              0.467180             0.00000            0.0   \n",
       "4679              0.683852             0.00000            0.0   \n",
       "862               0.403169             0.25193            0.0   \n",
       "7286              0.830034             0.00000            1.0   \n",
       "\n",
       "      promotion_last_5years department  salary  department_IT  ...  \\\n",
       "6723                    0.0  marketing  medium            0.0  ...   \n",
       "6473                    0.0         IT     low            1.0  ...   \n",
       "4679                    0.0      sales     low            0.0  ...   \n",
       "862                     0.0      sales     low            0.0  ...   \n",
       "7286                    0.0         hr     low            0.0  ...   \n",
       "\n",
       "      department_hr  department_management  department_marketing  \\\n",
       "6723            0.0                    0.0                   1.0   \n",
       "6473            0.0                    0.0                   0.0   \n",
       "4679            0.0                    0.0                   0.0   \n",
       "862             0.0                    0.0                   0.0   \n",
       "7286            1.0                    0.0                   0.0   \n",
       "\n",
       "      department_product_mng  department_sales  department_support  \\\n",
       "6723                     0.0               0.0                 0.0   \n",
       "6473                     0.0               0.0                 0.0   \n",
       "4679                     0.0               1.0                 0.0   \n",
       "862                      0.0               1.0                 0.0   \n",
       "7286                     0.0               0.0                 0.0   \n",
       "\n",
       "      department_technical  salary_high  salary_low  salary_medium  \n",
       "6723                   0.0          0.0         0.0            1.0  \n",
       "6473                   0.0          0.0         1.0            0.0  \n",
       "4679                   0.0          0.0         1.0            0.0  \n",
       "862                    0.0          0.0         1.0            0.0  \n",
       "7286                   0.0          0.0         1.0            0.0  \n",
       "\n",
       "[5 rows x 22 columns]"
      ]
     },
     "execution_count": 91,
     "metadata": {},
     "output_type": "execute_result"
    }
   ],
   "source": [
    "test_input.head()"
   ]
  },
  {
   "cell_type": "markdown",
   "id": "9de01c3b",
   "metadata": {},
   "source": [
    "### Building ,Training and Validation of the Logistic regression model"
   ]
  },
  {
   "cell_type": "code",
   "execution_count": 92,
   "id": "9c314bb2",
   "metadata": {},
   "outputs": [],
   "source": [
    "#importing gridsearch for hyperparameter tuning\n",
    "from sklearn.model_selection import GridSearchCV"
   ]
  },
  {
   "cell_type": "code",
   "execution_count": 93,
   "id": "13c4038c",
   "metadata": {},
   "outputs": [
    {
     "data": {
      "text/plain": [
       "LogisticRegression(C=100, penalty='l1', solver='liblinear')"
      ]
     },
     "execution_count": 93,
     "metadata": {},
     "output_type": "execute_result"
    }
   ],
   "source": [
    "#Import the model\n",
    "from sklearn.linear_model import LogisticRegression\n",
    "\n",
    "#Building the model\n",
    "LR_model = LogisticRegression(penalty = 'l1',solver = 'liblinear')\n",
    "\n",
    "#regularization strength,small values corresponds to strong regularization\n",
    "param = {'C': [10**-2,10**-1,10**0,10**1,10**2]}\n",
    "\n",
    "## Perform GridSearchCV to tune best-fit LR model\n",
    "Gs_model = GridSearchCV(estimator=LR_model, param_grid=param)\n",
    "Gs_model.fit(train_input[numeric_cols + encoded_cols],train_target)\n",
    "\n",
    "# Train a LR model with best parameters\n",
    "model = LogisticRegression(**Gs_model.best_params_, penalty='l1', solver='liblinear')\n",
    "model.fit(train_input[numeric_cols + encoded_cols],train_target)"
   ]
  },
  {
   "cell_type": "code",
   "execution_count": 56,
   "id": "639fff49",
   "metadata": {},
   "outputs": [],
   "source": [
    "?LR_model"
   ]
  },
  {
   "cell_type": "markdown",
   "id": "a4f366eb",
   "metadata": {},
   "source": [
    "### Model Predictions and Evaluation"
   ]
  },
  {
   "cell_type": "code",
   "execution_count": 94,
   "id": "4fefba6e",
   "metadata": {},
   "outputs": [],
   "source": [
    "from sklearn.metrics import accuracy_score,confusion_matrix\n",
    "\n",
    "X_train = train_input[numeric_cols + encoded_cols]\n",
    "X_val = val_input[numeric_cols + encoded_cols]\n",
    "X_test = test_input[numeric_cols + encoded_cols]\n",
    "\n",
    "#Defining a helper function to generate predictions, compute the accuracy score and plot a \n",
    "#confusion matrix for a given st of inputs.\n",
    "def predict_and_plot(inputs, targets, name=''):\n",
    "    preds = model.predict(inputs)\n",
    "    \n",
    "    accuracy = accuracy_score(targets, preds)\n",
    "    print(\"{}_Accuracy: {:.2f}%\".format(name,accuracy * 100))\n",
    "    \n",
    "    cf = confusion_matrix(targets, preds, normalize='true')\n",
    "    plt.figure()\n",
    "    sns.heatmap(cf,cmap = 'coolwarm',annot=True)\n",
    "    plt.xlabel('Prediction')\n",
    "    plt.ylabel('Target')\n",
    "    plt.title('{} Confusion Matrix'.format(name));\n",
    "    \n",
    "    return preds"
   ]
  },
  {
   "cell_type": "code",
   "execution_count": 95,
   "id": "cc70d16f",
   "metadata": {},
   "outputs": [
    {
     "name": "stdout",
     "output_type": "stream",
     "text": [
      "Training_Accuracy: 82.42%\n",
      "Validation_Accuracy: 82.03%\n",
      "Test_Accuracy: 81.57%\n"
     ]
    },
    {
     "data": {
      "text/plain": [
       "array([0, 0, 0, ..., 0, 0, 0], dtype=int64)"
      ]
     },
     "execution_count": 95,
     "metadata": {},
     "output_type": "execute_result"
    },
    {
     "data": {
      "image/png": "[encoded data removed]",
      "text/plain": [
       "<Figure size 432x288 with 2 Axes>"
      ]
     },
     "metadata": {
      "needs_background": "light"
     },
     "output_type": "display_data"
    },
    {
     "data": {
      "image/png": "[encoded data removed]",
      "text/plain": [
       "<Figure size 432x288 with 2 Axes>"
      ]
     },
     "metadata": {
      "needs_background": "light"
     },
     "output_type": "display_data"
    },
    {
     "data": {
      "image/png": "[encoded data removed]",
      "text/plain": [
       "<Figure size 432x288 with 2 Axes>"
      ]
     },
     "metadata": {
      "needs_background": "light"
     },
     "output_type": "display_data"
    }
   ],
   "source": [
    "predict_and_plot(X_train, train_target, 'Training')\n",
    "predict_and_plot(X_val, val_target, 'Validation')\n",
    "predict_and_plot(X_test, test_target, 'Test')"
   ]
  },
  {
   "cell_type": "markdown",
   "id": "f559765c",
   "metadata": {},
   "source": [
    "### Features selection using L1 Regularization"
   ]
  },
  {
   "cell_type": "markdown",
   "id": "9fab729d",
   "metadata": {},
   "source": [
    "Computing the coefficients of the Logistic Regression model using model.coef_ function, that returns with the weight vector of the logistic regression dividing plane."
   ]
  },
  {
   "cell_type": "code",
   "execution_count": 96,
   "id": "b3ccffe4",
   "metadata": {},
   "outputs": [
    {
     "data": {
      "text/plain": [
       "array([-4.36008085,  0.34257295, -2.83743007,  1.09363735,  2.85502329,\n",
       "       -1.56783105, -1.12672522,  0.59463094,  0.1888043 ,  0.77837302,\n",
       "        1.05764066,  0.4032928 ,  0.84035085,  0.846802  ,  0.81187663,\n",
       "        0.84137607,  0.9620966 , -2.01164563, -0.01048814, -0.54873453])"
      ]
     },
     "execution_count": 96,
     "metadata": {},
     "output_type": "execute_result"
    }
   ],
   "source": [
    "model.coef_[0]"
   ]
  },
  {
   "cell_type": "markdown",
   "id": "2a69c6f6",
   "metadata": {},
   "source": [
    "Based on the cofficients values obtained as a results of l1 regularization, it shows that none of the features is redundant."
   ]
  },
  {
   "cell_type": "markdown",
   "id": "59584849",
   "metadata": {},
   "source": [
    "### Summary\n",
    "- The logistic regression model was trained, validated and tested over a dataset of 14999 records\n",
    "- The salary of the employee seems to have a strong negative effect on the employee retention.\n",
    "- Through EDA the data was observed to be imbalanced. Due to the small size of the dataset,downsampling could not be performed. Also oversampling could not also be performed inorder to avoid overfitting. To take care of this problem, tree models could be trained.\n",
    "- Again through EDA the data was observed to be skewed. To handle this skewness the _Log transformation_ was applied. This hepled to increase the model accuracy on the validation set from 78% to about 82%.\n",
    "- L1 regularization was used for feature selection."
   ]
  },
  {
   "cell_type": "code",
   "execution_count": null,
   "id": "2baf79cb",
   "metadata": {},
   "outputs": [],
   "source": []
  }
 ],
 "metadata": {
  "kernelspec": {
   "display_name": "Python 3",
   "language": "python",
   "name": "python3"
  },
  "language_info": {
   "codemirror_mode": {
    "name": "ipython",
    "version": 3
   },
   "file_extension": ".py",
   "mimetype": "text/x-python",
   "name": "python",
   "nbconvert_exporter": "python",
   "pygments_lexer": "ipython3",
   "version": "3.8.8"
  }
 },
 "nbformat": 4,
 "nbformat_minor": 5
}
